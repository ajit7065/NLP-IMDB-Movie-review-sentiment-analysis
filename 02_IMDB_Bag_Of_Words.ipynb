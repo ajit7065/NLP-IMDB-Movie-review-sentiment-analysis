{
 "cells": [
  {
   "cell_type": "code",
   "execution_count": 1,
   "id": "8daa8bd2",
   "metadata": {},
   "outputs": [],
   "source": [
    "import seaborn as sns\n",
    "import matplotlib.pyplot as plt\n",
    "plt.style.use(\"dark_background\")\n",
    "sns.set_palette(\"dark\")\n",
    "import warnings\n",
    "warnings.filterwarnings('ignore')\n",
    "import pandas as pd\n",
    "import numpy as np\n",
    "from sklearn.feature_extraction.text import TfidfVectorizer\n",
    "from sklearn.feature_extraction.text import CountVectorizer\n",
    "from gensim.models import Word2Vec\n",
    "from sklearn.metrics import classification_report, confusion_matrix\n",
    "from sklearn.metrics import roc_auc_score,accuracy_score,recall_score\n",
    "from sklearn.metrics import roc_curve\n",
    "from sklearn.model_selection import train_test_split\n",
    "from sklearn.model_selection import StratifiedKFold"
   ]
  },
  {
   "cell_type": "code",
   "execution_count": 2,
   "id": "0235f60f",
   "metadata": {},
   "outputs": [
    {
     "data": {
      "text/html": [
       "<div>\n",
       "<style scoped>\n",
       "    .dataframe tbody tr th:only-of-type {\n",
       "        vertical-align: middle;\n",
       "    }\n",
       "\n",
       "    .dataframe tbody tr th {\n",
       "        vertical-align: top;\n",
       "    }\n",
       "\n",
       "    .dataframe thead th {\n",
       "        text-align: right;\n",
       "    }\n",
       "</style>\n",
       "<table border=\"1\" class=\"dataframe\">\n",
       "  <thead>\n",
       "    <tr style=\"text-align: right;\">\n",
       "      <th></th>\n",
       "      <th>Unnamed: 0</th>\n",
       "      <th>sentiment</th>\n",
       "      <th>text_clean</th>\n",
       "    </tr>\n",
       "  </thead>\n",
       "  <tbody>\n",
       "    <tr>\n",
       "      <th>0</th>\n",
       "      <td>0</td>\n",
       "      <td>1</td>\n",
       "      <td>one reviewers mentioned watching 1 oz episode ...</td>\n",
       "    </tr>\n",
       "    <tr>\n",
       "      <th>1</th>\n",
       "      <td>1</td>\n",
       "      <td>1</td>\n",
       "      <td>wonderful little production br br filming tech...</td>\n",
       "    </tr>\n",
       "    <tr>\n",
       "      <th>2</th>\n",
       "      <td>2</td>\n",
       "      <td>1</td>\n",
       "      <td>thought wonderful way spend time hot summer we...</td>\n",
       "    </tr>\n",
       "    <tr>\n",
       "      <th>3</th>\n",
       "      <td>3</td>\n",
       "      <td>0</td>\n",
       "      <td>basically family little boy jake thinks zombie...</td>\n",
       "    </tr>\n",
       "    <tr>\n",
       "      <th>4</th>\n",
       "      <td>4</td>\n",
       "      <td>1</td>\n",
       "      <td>petter mattei love time money visually stunnin...</td>\n",
       "    </tr>\n",
       "  </tbody>\n",
       "</table>\n",
       "</div>"
      ],
      "text/plain": [
       "   Unnamed: 0  sentiment                                         text_clean\n",
       "0           0          1  one reviewers mentioned watching 1 oz episode ...\n",
       "1           1          1  wonderful little production br br filming tech...\n",
       "2           2          1  thought wonderful way spend time hot summer we...\n",
       "3           3          0  basically family little boy jake thinks zombie...\n",
       "4           4          1  petter mattei love time money visually stunnin..."
      ]
     },
     "execution_count": 2,
     "metadata": {},
     "output_type": "execute_result"
    }
   ],
   "source": [
    "df = pd.read_csv(\"D:\\\\Portfolio\\\\03_IMDB_reviews\\\\IMDB_Preprocessed.csv\")\n",
    "df.head()"
   ]
  },
  {
   "cell_type": "code",
   "execution_count": 3,
   "id": "6ea36272",
   "metadata": {},
   "outputs": [
    {
     "data": {
      "text/plain": [
       "(49582, 3)"
      ]
     },
     "execution_count": 3,
     "metadata": {},
     "output_type": "execute_result"
    }
   ],
   "source": [
    "df.shape"
   ]
  },
  {
   "cell_type": "code",
   "execution_count": 4,
   "id": "a9d2b5bb",
   "metadata": {},
   "outputs": [
    {
     "data": {
      "text/plain": [
       "1    24884\n",
       "0    24698\n",
       "Name: sentiment, dtype: int64"
      ]
     },
     "execution_count": 4,
     "metadata": {},
     "output_type": "execute_result"
    }
   ],
   "source": [
    "df[\"sentiment\"].value_counts()"
   ]
  },
  {
   "cell_type": "code",
   "execution_count": 6,
   "id": "72730fd5",
   "metadata": {},
   "outputs": [],
   "source": [
    "y = df['sentiment'].values\n",
    "X = df[['text_clean']]\n",
    "X_train, X_test, y_train, y_test = train_test_split(X, y, test_size=0.30, stratify=y)"
   ]
  },
  {
   "cell_type": "code",
   "execution_count": 7,
   "id": "e14a5108",
   "metadata": {},
   "outputs": [
    {
     "data": {
      "text/plain": [
       "(0, 3)"
      ]
     },
     "execution_count": 7,
     "metadata": {},
     "output_type": "execute_result"
    }
   ],
   "source": [
    "df.loc[df['text_clean'].isnull()].shape"
   ]
  },
  {
   "cell_type": "code",
   "execution_count": null,
   "id": "d8aee304",
   "metadata": {},
   "outputs": [],
   "source": []
  },
  {
   "cell_type": "code",
   "execution_count": 9,
   "id": "b61aaf85",
   "metadata": {},
   "outputs": [
    {
     "name": "stdout",
     "output_type": "stream",
     "text": [
      "(34707, 1) (34707,)\n",
      "(14875, 1) (14875,)\n",
      "====================================================================================================\n",
      "After vectorizations\n",
      "(34707, 10000) (34707,)\n",
      "(14875, 10000) (14875,)\n",
      "====================================================================================================\n"
     ]
    }
   ],
   "source": [
    "# Getting BOW \n",
    "print(X_train.shape, y_train.shape)\n",
    "print(X_test.shape, y_test.shape)\n",
    "print(\"=\"*100)\n",
    "\n",
    "# Handling NaN values by replacing them with an empty string\n",
    "X_train['text_clean'].fillna('', inplace=True)\n",
    "X_test['text_clean'].fillna('', inplace=True)\n",
    "\n",
    "vectorizer = CountVectorizer(min_df=2,ngram_range=(1,4), max_features=10000)\n",
    "vectorizer.fit(X_train['text_clean'])\n",
    "X_train_bow = vectorizer.transform(X_train['text_clean'].values)\n",
    "X_test_bow = vectorizer.transform(X_test['text_clean'].values)\n",
    "\n",
    "print(\"After vectorizations\")\n",
    "print(X_train_bow.shape, y_train.shape)\n",
    "print(X_test_bow.shape, y_test.shape)\n",
    "print(\"=\"*100)"
   ]
  },
  {
   "cell_type": "code",
   "execution_count": 10,
   "id": "0c007c65",
   "metadata": {},
   "outputs": [
    {
     "data": {
      "text/plain": [
       "(34707, 10000)"
      ]
     },
     "execution_count": 10,
     "metadata": {},
     "output_type": "execute_result"
    }
   ],
   "source": [
    "X_train_bow.shape"
   ]
  },
  {
   "cell_type": "code",
   "execution_count": 11,
   "id": "27e15c95",
   "metadata": {},
   "outputs": [
    {
     "data": {
      "text/plain": [
       "(14875, 10000)"
      ]
     },
     "execution_count": 11,
     "metadata": {},
     "output_type": "execute_result"
    }
   ],
   "source": [
    "X_test_bow.shape"
   ]
  },
  {
   "cell_type": "code",
   "execution_count": 12,
   "id": "8265425b",
   "metadata": {},
   "outputs": [
    {
     "data": {
      "text/plain": [
       "(34707,)"
      ]
     },
     "execution_count": 12,
     "metadata": {},
     "output_type": "execute_result"
    }
   ],
   "source": [
    "y_train.shape"
   ]
  },
  {
   "cell_type": "code",
   "execution_count": 13,
   "id": "b89b5408",
   "metadata": {},
   "outputs": [],
   "source": [
    "X_train=X_train_bow.toarray()\n",
    "X_test=X_test_bow.toarray()"
   ]
  },
  {
   "cell_type": "markdown",
   "id": "29e6a4e0",
   "metadata": {},
   "source": [
    "# Gausian Naive Bayes"
   ]
  },
  {
   "cell_type": "code",
   "execution_count": 14,
   "id": "cedc7ee8",
   "metadata": {},
   "outputs": [
    {
     "name": "stdout",
     "output_type": "stream",
     "text": [
      "[[6340 1070]\n",
      " [1576 5889]]\n",
      "              precision    recall  f1-score   support\n",
      "\n",
      "           0       0.80      0.86      0.83      7410\n",
      "           1       0.85      0.79      0.82      7465\n",
      "\n",
      "    accuracy                           0.82     14875\n",
      "   macro avg       0.82      0.82      0.82     14875\n",
      "weighted avg       0.82      0.82      0.82     14875\n",
      "\n",
      "***AUC score***\n",
      "AUC score for NB is  0.8697606735164458\n",
      "***Accuracy score***\n",
      "Train Accuracy score for NB is  0.8472930532745556\n",
      "Test Accuracy score for NB is  0.8221176470588235\n",
      "***Recall score***\n",
      "Train recall score for NB is  0.8115276422297492\n",
      "Test recall score for NB is  0.7888814467515071\n"
     ]
    }
   ],
   "source": [
    "# Training Naive bayes\n",
    "# Finding Accuracy, AUC, False positive rate, True positive rate, confusion matrix and classificatio report\n",
    "from sklearn.naive_bayes import GaussianNB\n",
    "NB = GaussianNB()\n",
    "NB.fit(X_train, y_train)\n",
    "pred = NB.predict(X_test)\n",
    "accNB = accuracy_score(y_test, pred)\n",
    "y_pred_prob = NB.predict_proba(X_test)\n",
    "predT=NB.predict(X_train)\n",
    "aucScoreNB = roc_auc_score(y_test,  y_pred_prob[:,1])\n",
    "fprNB, tprNB, thresholds = roc_curve(y_test, y_pred_prob[:,1] )\n",
    "print(confusion_matrix(y_test,pred))\n",
    "print(classification_report(y_test,pred))\n",
    "print(\"***AUC score***\")\n",
    "print(\"AUC score for NB is \",aucScoreNB)\n",
    "print(\"***Accuracy score***\")\n",
    "print(\"Train Accuracy score for NB is \",accuracy_score(y_train, predT))\n",
    "print(\"Test Accuracy score for NB is \",accuracy_score(y_test, pred))\n",
    "print(\"***Recall score***\")\n",
    "print(\"Train recall score for NB is \",recall_score(y_train, predT))\n",
    "print(\"Test recall score for NB is \",recall_score(y_test, pred))"
   ]
  },
  {
   "cell_type": "markdown",
   "id": "b7854150",
   "metadata": {},
   "source": [
    "# Logistic Regression"
   ]
  },
  {
   "cell_type": "code",
   "execution_count": 15,
   "id": "183dbe88",
   "metadata": {},
   "outputs": [
    {
     "name": "stdout",
     "output_type": "stream",
     "text": [
      "[[6586  824]\n",
      " [ 914 6551]]\n",
      "              precision    recall  f1-score   support\n",
      "\n",
      "           0       0.88      0.89      0.88      7410\n",
      "           1       0.89      0.88      0.88      7465\n",
      "\n",
      "    accuracy                           0.88     14875\n",
      "   macro avg       0.88      0.88      0.88     14875\n",
      "weighted avg       0.88      0.88      0.88     14875\n",
      "\n",
      "***AUC score***\n",
      "AUC score for LR is  0.9481404268050725\n",
      "***Accuracy score***\n",
      "Train Accuracy score for LR is  0.9795142190336243\n",
      "Test Accuracy score for LR is  0.8831596638655462\n",
      "***Recall score***\n",
      "Train recall score for LR is  0.9799644066823583\n",
      "Test recall score for LR is  0.877561955793704\n"
     ]
    }
   ],
   "source": [
    "from sklearn.linear_model import LogisticRegression\n",
    "# Create a Logistic Regression classifier\n",
    "LR = LogisticRegression()\n",
    "LR.fit(X_train, y_train)\n",
    "pred = LR.predict(X_test)\n",
    "accLR = accuracy_score(y_test, pred)\n",
    "y_pred_prob = LR.predict_proba(X_test)\n",
    "predT=LR.predict(X_train)\n",
    "aucScoreLR = roc_auc_score(y_test,  y_pred_prob[:,1])\n",
    "fprLR, tprLR, thresholds = roc_curve(y_test, y_pred_prob[:,1] )\n",
    "print(confusion_matrix(y_test,pred))\n",
    "print(classification_report(y_test,pred))\n",
    "print(\"***AUC score***\")\n",
    "print(\"AUC score for LR is \",aucScoreLR)\n",
    "print(\"***Accuracy score***\")\n",
    "print(\"Train Accuracy score for LR is \",accuracy_score(y_train, predT))\n",
    "print(\"Test Accuracy score for LR is \",accuracy_score(y_test, pred))\n",
    "print(\"***Recall score***\")\n",
    "print(\"Train recall score for LR is \",recall_score(y_train, predT))\n",
    "print(\"Test recall score for LR is \",recall_score(y_test, pred))"
   ]
  },
  {
   "cell_type": "markdown",
   "id": "a2a823c1",
   "metadata": {},
   "source": [
    "# Decision tree"
   ]
  },
  {
   "cell_type": "code",
   "execution_count": 16,
   "id": "e9f9a90a",
   "metadata": {},
   "outputs": [
    {
     "name": "stdout",
     "output_type": "stream",
     "text": [
      "[[5420 1990]\n",
      " [2144 5321]]\n",
      "              precision    recall  f1-score   support\n",
      "\n",
      "           0       0.72      0.73      0.72      7410\n",
      "           1       0.73      0.71      0.72      7465\n",
      "\n",
      "    accuracy                           0.72     14875\n",
      "   macro avg       0.72      0.72      0.72     14875\n",
      "weighted avg       0.72      0.72      0.72     14875\n",
      "\n",
      "***AUC score***\n",
      "AUC score for DT is  0.72211851438065\n",
      "***Accuracy score***\n",
      "Train Accuracy score for DT is  1.0\n",
      "Test Accuracy score for DT is  0.7220840336134454\n",
      "***Recall score***\n",
      "Train recall score for DT is  1.0\n",
      "Test recall score for DT is  0.7127930341594105\n"
     ]
    }
   ],
   "source": [
    "# Decision Trees (Multiple if-else statements!)\n",
    "from sklearn.tree import DecisionTreeClassifier\n",
    "# Create a DecisionTree classifier\n",
    "DT = DecisionTreeClassifier()\n",
    "DT.fit(X_train, y_train)\n",
    "pred = DT.predict(X_test)\n",
    "accDT = accuracy_score(y_test, pred)\n",
    "y_pred_prob = DT.predict_proba(X_test)\n",
    "predT=DT.predict(X_train)\n",
    "aucScoreDT = roc_auc_score(y_test,  y_pred_prob[:,1])\n",
    "fprDT, tprDT, thresholds = roc_curve(y_test, y_pred_prob[:,1] )\n",
    "print(confusion_matrix(y_test,pred))\n",
    "print(classification_report(y_test,pred))\n",
    "print(\"***AUC score***\")\n",
    "print(\"AUC score for DT is \",aucScoreDT)\n",
    "print(\"***Accuracy score***\")\n",
    "print(\"Train Accuracy score for DT is \",accuracy_score(y_train, predT))\n",
    "print(\"Test Accuracy score for DT is \",accuracy_score(y_test, pred))\n",
    "print(\"***Recall score***\")\n",
    "print(\"Train recall score for DT is \",recall_score(y_train, predT))\n",
    "print(\"Test recall score for DT is \",recall_score(y_test, pred))"
   ]
  },
  {
   "cell_type": "markdown",
   "id": "2ea44ba9",
   "metadata": {},
   "source": [
    "# Random Forest"
   ]
  },
  {
   "cell_type": "code",
   "execution_count": 17,
   "id": "dc2d662d",
   "metadata": {},
   "outputs": [
    {
     "name": "stdout",
     "output_type": "stream",
     "text": [
      "[[6423  987]\n",
      " [1135 6330]]\n",
      "              precision    recall  f1-score   support\n",
      "\n",
      "           0       0.85      0.87      0.86      7410\n",
      "           1       0.87      0.85      0.86      7465\n",
      "\n",
      "    accuracy                           0.86     14875\n",
      "   macro avg       0.86      0.86      0.86     14875\n",
      "weighted avg       0.86      0.86      0.86     14875\n",
      "\n",
      "***AUC score***\n",
      "AUC score for RF is  0.9305502421105059\n",
      "***Accuracy score***\n",
      "Train Accuracy score for RF is  1.0\n",
      "Test Accuracy score for RF is  0.8573445378151261\n",
      "***Recall score***\n",
      "Train recall score for RF is  1.0\n",
      "Test recall score for RF is  0.8479571332886805\n"
     ]
    }
   ],
   "source": [
    "from sklearn.ensemble import RandomForestClassifier\n",
    "# Create a RandomForestClassifier classifier\n",
    "RF = RandomForestClassifier()\n",
    "RF.fit(X_train, y_train)\n",
    "pred = RF.predict(X_test)\n",
    "accRF = accuracy_score(y_test, pred)\n",
    "y_pred_prob = RF.predict_proba(X_test)\n",
    "predT=RF.predict(X_train)\n",
    "aucScoreRF = roc_auc_score(y_test,  y_pred_prob[:,1])\n",
    "fprRF, tprRF, thresholds = roc_curve(y_test, y_pred_prob[:,1] )\n",
    "print(confusion_matrix(y_test,pred))\n",
    "print(classification_report(y_test,pred))\n",
    "print(\"***AUC score***\")\n",
    "print(\"AUC score for RF is \",aucScoreRF)\n",
    "print(\"***Accuracy score***\")\n",
    "print(\"Train Accuracy score for RF is \",accuracy_score(y_train, predT))\n",
    "print(\"Test Accuracy score for RF is \",accuracy_score(y_test, pred))\n",
    "print(\"***Recall score***\")\n",
    "print(\"Train recall score for RF is \",recall_score(y_train, predT))\n",
    "print(\"Test recall score for RF is \",recall_score(y_test, pred))"
   ]
  },
  {
   "cell_type": "markdown",
   "id": "0dc71631",
   "metadata": {},
   "source": [
    "# XG Boost"
   ]
  },
  {
   "cell_type": "code",
   "execution_count": 18,
   "id": "b99c9a1d",
   "metadata": {},
   "outputs": [
    {
     "name": "stdout",
     "output_type": "stream",
     "text": [
      "[[6353 1057]\n",
      " [ 892 6573]]\n",
      "              precision    recall  f1-score   support\n",
      "\n",
      "           0       0.88      0.86      0.87      7410\n",
      "           1       0.86      0.88      0.87      7465\n",
      "\n",
      "    accuracy                           0.87     14875\n",
      "   macro avg       0.87      0.87      0.87     14875\n",
      "weighted avg       0.87      0.87      0.87     14875\n",
      "\n",
      "***AUC score***\n",
      "AUC score for XGB is  0.9415264577022959\n",
      "***Accuracy score***\n",
      "Train Accuracy score for XGB is  0.9238770276889389\n",
      "Test Accuracy score for XGB is  0.8689747899159664\n",
      "***Recall score***\n",
      "Train recall score for XGB is  0.9417877030828405\n",
      "Test recall score for XGB is  0.880509042196919\n"
     ]
    }
   ],
   "source": [
    "from xgboost import XGBClassifier\n",
    "# Create a RandomForestClassifier classifier\n",
    "XGB = XGBClassifier()\n",
    "XGB.fit(X_train, y_train)\n",
    "pred = XGB.predict(X_test)\n",
    "accXGB = accuracy_score(y_test, pred)\n",
    "y_pred_prob = XGB.predict_proba(X_test)\n",
    "predT=XGB.predict(X_train)\n",
    "aucScoreXGB = roc_auc_score(y_test,  y_pred_prob[:,1])\n",
    "fprXGB, tprXGB, thresholds = roc_curve(y_test, y_pred_prob[:,1] )\n",
    "print(confusion_matrix(y_test,pred))\n",
    "print(classification_report(y_test,pred))\n",
    "print(\"***AUC score***\")\n",
    "print(\"AUC score for XGB is \",aucScoreXGB)\n",
    "print(\"***Accuracy score***\")\n",
    "print(\"Train Accuracy score for XGB is \",accuracy_score(y_train, predT))\n",
    "print(\"Test Accuracy score for XGB is \",accuracy_score(y_test, pred))\n",
    "print(\"***Recall score***\")\n",
    "print(\"Train recall score for XGB is \",recall_score(y_train, predT))\n",
    "print(\"Test recall score for XGB is \",recall_score(y_test, pred))"
   ]
  },
  {
   "cell_type": "markdown",
   "id": "c74397c4",
   "metadata": {},
   "source": [
    "Logistic regression seems to be best by use of Bag of words vectorization"
   ]
  },
  {
   "cell_type": "code",
   "execution_count": null,
   "id": "80e06ae4",
   "metadata": {},
   "outputs": [],
   "source": []
  },
  {
   "cell_type": "code",
   "execution_count": null,
   "id": "1e889081",
   "metadata": {},
   "outputs": [],
   "source": []
  }
 ],
 "metadata": {
  "celltoolbar": "Raw Cell Format",
  "kernelspec": {
   "display_name": "Python 3 (ipykernel)",
   "language": "python",
   "name": "python3"
  },
  "language_info": {
   "codemirror_mode": {
    "name": "ipython",
    "version": 3
   },
   "file_extension": ".py",
   "mimetype": "text/x-python",
   "name": "python",
   "nbconvert_exporter": "python",
   "pygments_lexer": "ipython3",
   "version": "3.9.7"
  }
 },
 "nbformat": 4,
 "nbformat_minor": 5
}
