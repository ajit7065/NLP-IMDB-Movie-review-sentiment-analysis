{
 "cells": [
  {
   "cell_type": "markdown",
   "metadata": {
    "id": "EwZa81ThPbt3"
   },
   "source": [
    "## Setting the environment"
   ]
  },
  {
   "cell_type": "code",
   "execution_count": 1,
   "metadata": {
    "id": "W-vpR9QCOn2i"
   },
   "outputs": [],
   "source": [
    "# Importing essential libraries and functions\n",
    "\n",
    "import pandas as pd\n",
    "import numpy as np\n",
    "import re\n",
    "import nltk\n",
    "from nltk.corpus import stopwords\n",
    "from numpy import array\n",
    "\n",
    "from keras.preprocessing.text import one_hot, Tokenizer\n",
    "from tensorflow.keras.preprocessing.sequence import pad_sequences\n",
    "from keras.models import Sequential\n",
    "from keras.layers.core import Activation, Dropout, Dense\n",
    "from keras.layers import Flatten, GlobalMaxPooling1D, Embedding, Conv1D, LSTM\n",
    "from sklearn.model_selection import train_test_split\n",
    "import seaborn as sns\n",
    "import matplotlib.pyplot as plt\n",
    "plt.style.use(\"dark_background\")\n",
    "sns.set_palette(\"dark\")\n",
    "import warnings\n",
    "warnings.filterwarnings('ignore')\n",
    "import pandas as pd\n",
    "import numpy as np\n",
    "from sklearn.feature_extraction.text import TfidfVectorizer\n",
    "from sklearn.feature_extraction.text import CountVectorizer\n",
    "from gensim.models import Word2Vec\n",
    "from sklearn.metrics import classification_report, confusion_matrix\n",
    "from sklearn.metrics import roc_auc_score,accuracy_score,recall_score\n",
    "from sklearn.metrics import roc_curve\n",
    "from sklearn.model_selection import train_test_split\n",
    "from sklearn.naive_bayes import GaussianNB\n",
    "from sklearn.model_selection import StratifiedKFold"
   ]
  },
  {
   "cell_type": "markdown",
   "metadata": {
    "id": "q6FO9rxjxHe_"
   },
   "source": [
    "## Loading dataset"
   ]
  },
  {
   "cell_type": "code",
   "execution_count": 2,
   "metadata": {
    "id": "sNL6yy_DO0n1"
   },
   "outputs": [
    {
     "data": {
      "text/html": [
       "<div>\n",
       "<style scoped>\n",
       "    .dataframe tbody tr th:only-of-type {\n",
       "        vertical-align: middle;\n",
       "    }\n",
       "\n",
       "    .dataframe tbody tr th {\n",
       "        vertical-align: top;\n",
       "    }\n",
       "\n",
       "    .dataframe thead th {\n",
       "        text-align: right;\n",
       "    }\n",
       "</style>\n",
       "<table border=\"1\" class=\"dataframe\">\n",
       "  <thead>\n",
       "    <tr style=\"text-align: right;\">\n",
       "      <th></th>\n",
       "      <th>Unnamed: 0</th>\n",
       "      <th>sentiment</th>\n",
       "      <th>text_clean</th>\n",
       "    </tr>\n",
       "  </thead>\n",
       "  <tbody>\n",
       "    <tr>\n",
       "      <th>0</th>\n",
       "      <td>0</td>\n",
       "      <td>1</td>\n",
       "      <td>one reviewers mentioned watching 1 oz episode ...</td>\n",
       "    </tr>\n",
       "    <tr>\n",
       "      <th>1</th>\n",
       "      <td>1</td>\n",
       "      <td>1</td>\n",
       "      <td>wonderful little production br br filming tech...</td>\n",
       "    </tr>\n",
       "    <tr>\n",
       "      <th>2</th>\n",
       "      <td>2</td>\n",
       "      <td>1</td>\n",
       "      <td>thought wonderful way spend time hot summer we...</td>\n",
       "    </tr>\n",
       "    <tr>\n",
       "      <th>3</th>\n",
       "      <td>3</td>\n",
       "      <td>0</td>\n",
       "      <td>basically family little boy jake thinks zombie...</td>\n",
       "    </tr>\n",
       "    <tr>\n",
       "      <th>4</th>\n",
       "      <td>4</td>\n",
       "      <td>1</td>\n",
       "      <td>petter mattei love time money visually stunnin...</td>\n",
       "    </tr>\n",
       "  </tbody>\n",
       "</table>\n",
       "</div>"
      ],
      "text/plain": [
       "   Unnamed: 0  sentiment                                         text_clean\n",
       "0           0          1  one reviewers mentioned watching 1 oz episode ...\n",
       "1           1          1  wonderful little production br br filming tech...\n",
       "2           2          1  thought wonderful way spend time hot summer we...\n",
       "3           3          0  basically family little boy jake thinks zombie...\n",
       "4           4          1  petter mattei love time money visually stunnin..."
      ]
     },
     "execution_count": 2,
     "metadata": {},
     "output_type": "execute_result"
    }
   ],
   "source": [
    "df = pd.read_csv(\"D:\\\\Portfolio\\\\03_IMDB_reviews\\\\IMDB_Preprocessed.csv\")\n",
    "df.head()"
   ]
  },
  {
   "cell_type": "code",
   "execution_count": 3,
   "metadata": {
    "colab": {
     "base_uri": "https://localhost:8080/"
    },
    "id": "elu2E2KjPBJX",
    "outputId": "22e0c258-e709-4c23-a9c6-adaadb3ac364"
   },
   "outputs": [
    {
     "data": {
      "text/plain": [
       "(49582, 3)"
      ]
     },
     "execution_count": 3,
     "metadata": {},
     "output_type": "execute_result"
    }
   ],
   "source": [
    "# Dataset exploration\n",
    "df.shape"
   ]
  },
  {
   "cell_type": "code",
   "execution_count": 4,
   "metadata": {
    "colab": {
     "base_uri": "https://localhost:8080/"
    },
    "id": "CRIDYlo4O8Va",
    "outputId": "c2e8cbe3-7487-4b82-931a-d6e8bd2bce9f"
   },
   "outputs": [
    {
     "data": {
      "text/plain": [
       "False"
      ]
     },
     "execution_count": 4,
     "metadata": {},
     "output_type": "execute_result"
    }
   ],
   "source": [
    "# Checking for missing values\n",
    "df.isnull().values.any()"
   ]
  },
  {
   "cell_type": "code",
   "execution_count": 5,
   "metadata": {
    "colab": {
     "base_uri": "https://localhost:8080/",
     "height": 296
    },
    "id": "ys4A3cAFPSYI",
    "outputId": "2fe3d6c3-06b2-4cc4-c1d2-2ad120757a0e"
   },
   "outputs": [
    {
     "data": {
      "text/plain": [
       "<AxesSubplot:xlabel='sentiment', ylabel='count'>"
      ]
     },
     "execution_count": 5,
     "metadata": {},
     "output_type": "execute_result"
    },
    {
     "data": {
      "image/png": "[encoded data removed]",
      "text/plain": [
       "<Figure size 432x288 with 1 Axes>"
      ]
     },
     "metadata": {},
     "output_type": "display_data"
    }
   ],
   "source": [
    "# Let's observe distribution of positive / negative sentiments in dataset\n",
    "import seaborn as sns\n",
    "sns.countplot(x='sentiment', data=df)"
   ]
  },
  {
   "cell_type": "code",
   "execution_count": 6,
   "metadata": {},
   "outputs": [],
   "source": [
    "from sklearn.preprocessing import LabelEncoder\n",
    "label_encoder = LabelEncoder()\n",
    "df['sentiment'] = label_encoder.fit_transform(df['sentiment'])"
   ]
  },
  {
   "cell_type": "code",
   "execution_count": 7,
   "metadata": {},
   "outputs": [
    {
     "data": {
      "text/plain": [
       "<AxesSubplot:xlabel='sentiment', ylabel='count'>"
      ]
     },
     "execution_count": 7,
     "metadata": {},
     "output_type": "execute_result"
    },
    {
     "data": {
      "image/png": "[encoded data removed]",
      "text/plain": [
       "<Figure size 432x288 with 1 Axes>"
      ]
     },
     "metadata": {},
     "output_type": "display_data"
    }
   ],
   "source": [
    "import seaborn as sns\n",
    "sns.countplot(x='sentiment', data=df)"
   ]
  },
  {
   "cell_type": "code",
   "execution_count": 8,
   "metadata": {},
   "outputs": [],
   "source": [
    "# Drop rows with missing values in the 'text_clean' column\n",
    "df.dropna(subset=['text_clean'], inplace=True)"
   ]
  },
  {
   "cell_type": "code",
   "execution_count": 9,
   "metadata": {},
   "outputs": [
    {
     "data": {
      "text/plain": [
       "(49582, 3)"
      ]
     },
     "execution_count": 9,
     "metadata": {},
     "output_type": "execute_result"
    }
   ],
   "source": [
    "df.shape"
   ]
  },
  {
   "cell_type": "code",
   "execution_count": 10,
   "metadata": {
    "id": "-EKC4DJTQKsB"
   },
   "outputs": [],
   "source": [
    "# Seperating input and output\n",
    "X = df['text_clean'].tolist()  # Convert 'text_clean' column to a list of sentences\n",
    "y = df['sentiment']"
   ]
  },
  {
   "cell_type": "code",
   "execution_count": 107,
   "metadata": {},
   "outputs": [],
   "source": [
    "# # Convert 'Star_Rating' column to integers (assuming it represents class labels)\n",
    "# y = y.astype(int)"
   ]
  },
  {
   "cell_type": "code",
   "execution_count": 11,
   "metadata": {
    "id": "UZPyxSQVQPT_"
   },
   "outputs": [],
   "source": [
    "X_train, X_test, y_train, y_test = train_test_split(X, y, test_size=0.20, random_state=42)"
   ]
  },
  {
   "cell_type": "markdown",
   "metadata": {
    "id": "FsF3k9QbQc5q"
   },
   "source": [
    "## Preparing embedding layer"
   ]
  },
  {
   "cell_type": "markdown",
   "metadata": {
    "id": "hv27X0dUcurD"
   },
   "source": [
    "Let's now write the script for our embedding layer. Embedding layer converts our textual data into numeric form. It is then **used as the first layer for the deep learning models in Keras**."
   ]
  },
  {
   "cell_type": "code",
   "execution_count": 12,
   "metadata": {
    "id": "kZ5kWzGKeAgc"
   },
   "outputs": [],
   "source": [
    "# Embedding layer expects the words to be in numeric form\n",
    "# Using Tokenizer function from keras.preprocessing.text library\n",
    "# Method fit_on_text trains the tokenizer\n",
    "# Method texts_to_sequences converts sentences to their numeric form\n",
    "from keras.preprocessing.text import Tokenizer\n",
    "\n",
    "# Convert 'text_clean' column to strings\n",
    "X_train = [str(text) for text in X_train]\n",
    "X_test = [str(text) for text in X_test]\n",
    "\n",
    "# Create the Tokenizer and fit on the training data\n",
    "word_tokenizer = Tokenizer()\n",
    "word_tokenizer.fit_on_texts(X_train)\n",
    "\n",
    "# Convert sentences to numeric sequences\n",
    "X_train = word_tokenizer.texts_to_sequences(X_train)\n",
    "X_test = word_tokenizer.texts_to_sequences(X_test)\n",
    "\n",
    "# Pad sequences to have the same length (required for input to neural networks)\n",
    "max_sequence_length = max(len(seq) for seq in X_train + X_test)\n",
    "X_train = pad_sequences(X_train, maxlen=max_sequence_length)\n",
    "X_test = pad_sequences(X_test, maxlen=max_sequence_length)"
   ]
  },
  {
   "cell_type": "code",
   "execution_count": 13,
   "metadata": {
    "colab": {
     "base_uri": "https://localhost:8080/"
    },
    "id": "vn-Rj21reKVm",
    "outputId": "8bda9c62-df83-4e8e-c9af-d5f7ab98537e"
   },
   "outputs": [
    {
     "data": {
      "text/plain": [
       "92996"
      ]
     },
     "execution_count": 13,
     "metadata": {},
     "output_type": "execute_result"
    }
   ],
   "source": [
    "# Adding 1 to store dimensions for words for which no pretrained word embeddings exist\n",
    "\n",
    "vocab_length = len(word_tokenizer.word_index) + 1\n",
    "\n",
    "vocab_length"
   ]
  },
  {
   "cell_type": "code",
   "execution_count": 14,
   "metadata": {
    "id": "9-QqBAR0hz22"
   },
   "outputs": [],
   "source": [
    "# Padding all reviews to fixed length 100\n",
    "\n",
    "maxlen = 100\n",
    "\n",
    "X_train = pad_sequences(X_train, padding='post', maxlen=maxlen)\n",
    "X_test = pad_sequences(X_test, padding='post', maxlen=maxlen)"
   ]
  },
  {
   "cell_type": "code",
   "execution_count": 15,
   "metadata": {
    "id": "VH4uFszlRGPk"
   },
   "outputs": [],
   "source": [
    "# Load GloVe word embeddings and create an Embeddings Dictionary\n",
    "\n",
    "from numpy import asarray\n",
    "from numpy import zeros\n",
    "\n",
    "embeddings_dictionary = dict()\n",
    "glove_file = open('D:\\\\Portfolio\\\\03_IMDB_reviews\\\\a2_glove.6B.100d.txt', encoding=\"utf8\")\n",
    "\n",
    "for line in glove_file:\n",
    "    records = line.split()\n",
    "    word = records[0]\n",
    "    vector_dimensions = asarray(records[1:], dtype='float32')\n",
    "    embeddings_dictionary [word] = vector_dimensions\n",
    "glove_file.close()"
   ]
  },
  {
   "cell_type": "code",
   "execution_count": 16,
   "metadata": {
    "id": "ZN6SP61FSDZB"
   },
   "outputs": [],
   "source": [
    "# Create Embedding Matrix having 100 columns\n",
    "# Containing 100-dimensional GloVe word embeddings for all words in our corpus.\n",
    "\n",
    "embedding_matrix = zeros((vocab_length, 100))\n",
    "for word, index in word_tokenizer.word_index.items():\n",
    "    embedding_vector = embeddings_dictionary.get(word)\n",
    "    if embedding_vector is not None:\n",
    "        embedding_matrix[index] = embedding_vector"
   ]
  },
  {
   "cell_type": "code",
   "execution_count": 17,
   "metadata": {
    "colab": {
     "base_uri": "https://localhost:8080/"
    },
    "id": "fjwFEeCmiAPo",
    "outputId": "2507711f-fcb8-4c89-f912-28512bdb476c"
   },
   "outputs": [
    {
     "data": {
      "text/plain": [
       "(92996, 100)"
      ]
     },
     "execution_count": 17,
     "metadata": {},
     "output_type": "execute_result"
    }
   ],
   "source": [
    "embedding_matrix.shape"
   ]
  },
  {
   "cell_type": "markdown",
   "metadata": {
    "id": "OW-AbfS3jNy_"
   },
   "source": [
    "# Model Training with:"
   ]
  },
  {
   "cell_type": "markdown",
   "metadata": {
    "id": "F_bNYrfoSIBj"
   },
   "source": [
    "## Simple Neural Network"
   ]
  },
  {
   "cell_type": "code",
   "execution_count": 18,
   "metadata": {
    "id": "qf-U8d-WSFxk"
   },
   "outputs": [],
   "source": [
    "# Neural Network architecture\n",
    "\n",
    "snn_model = Sequential()\n",
    "embedding_layer = Embedding(vocab_length, 100, weights=[embedding_matrix], input_length=maxlen , trainable=False)\n",
    "\n",
    "snn_model.add(embedding_layer)\n",
    "\n",
    "snn_model.add(Flatten())\n",
    "\n",
    "snn_model.add(Dense(units=128, kernel_initializer='normal', activation='relu'))\n",
    "Dropout(0.3),\n",
    "\n",
    "snn_model.add(Dense(units=64, kernel_initializer='normal', activation='relu'))\n",
    "Dropout(0.3),\n",
    "\n",
    "snn_model.add(Dense(units=32, kernel_initializer='normal', activation='relu'))\n",
    "Dropout(0.3),\n",
    "\n",
    "snn_model.add(Dense(1, kernel_initializer='normal'))"
   ]
  },
  {
   "cell_type": "code",
   "execution_count": 29,
   "metadata": {
    "colab": {
     "base_uri": "https://localhost:8080/"
    },
    "id": "JjUzsDS5SOrH",
    "outputId": "368baadd-5208-4dcc-c0d5-755645fb5061"
   },
   "outputs": [
    {
     "name": "stdout",
     "output_type": "stream",
     "text": [
      "Model: \"sequential_2\"\n",
      "_________________________________________________________________\n",
      " Layer (type)                Output Shape              Param #   \n",
      "=================================================================\n",
      " embedding_2 (Embedding)     (None, 100, 100)          9299600   \n",
      "                                                                 \n",
      " flatten_2 (Flatten)         (None, 10000)             0         \n",
      "                                                                 \n",
      " dense_8 (Dense)             (None, 128)               1280128   \n",
      "                                                                 \n",
      " dense_9 (Dense)             (None, 64)                8256      \n",
      "                                                                 \n",
      " dense_10 (Dense)            (None, 32)                2080      \n",
      "                                                                 \n",
      " dense_11 (Dense)            (None, 1)                 33        \n",
      "                                                                 \n",
      "=================================================================\n",
      "Total params: 10,590,097\n",
      "Trainable params: 1,290,497\n",
      "Non-trainable params: 9,299,600\n",
      "_________________________________________________________________\n",
      "None\n"
     ]
    }
   ],
   "source": [
    "# Model compiling\n",
    "\n",
    "snn_model.compile(optimizer='adam', loss='binary_crossentropy', metrics=['accuracy'])\n",
    "\n",
    "print(snn_model.summary())"
   ]
  },
  {
   "cell_type": "code",
   "execution_count": 30,
   "metadata": {
    "colab": {
     "base_uri": "https://localhost:8080/"
    },
    "id": "Fbjq_xjXSVIw",
    "outputId": "cf9c57de-d175-442e-ff1b-8844b1a4d4d1"
   },
   "outputs": [
    {
     "name": "stdout",
     "output_type": "stream",
     "text": [
      "Epoch 1/6\n",
      "248/248 [==============================] - 8s 27ms/step - loss: 0.6202 - accuracy: 0.6837 - val_loss: 0.5433 - val_accuracy: 0.7377\n",
      "Epoch 2/6\n",
      "248/248 [==============================] - 6s 26ms/step - loss: 0.6113 - accuracy: 0.6993 - val_loss: 0.5920 - val_accuracy: 0.6786\n",
      "Epoch 3/6\n",
      "248/248 [==============================] - 6s 26ms/step - loss: 0.6232 - accuracy: 0.7303 - val_loss: 0.5399 - val_accuracy: 0.7387\n",
      "Epoch 4/6\n",
      "248/248 [==============================] - 7s 29ms/step - loss: 0.5276 - accuracy: 0.7635 - val_loss: 0.5600 - val_accuracy: 0.7431\n",
      "Epoch 5/6\n",
      "248/248 [==============================] - 7s 27ms/step - loss: 0.4774 - accuracy: 0.7900 - val_loss: 0.5510 - val_accuracy: 0.7410\n",
      "Epoch 6/6\n",
      "248/248 [==============================] - 7s 27ms/step - loss: 0.4568 - accuracy: 0.8017 - val_loss: 0.6408 - val_accuracy: 0.7580\n"
     ]
    }
   ],
   "source": [
    "# Model training\n",
    "\n",
    "snn_model_history = snn_model.fit(X_train, y_train, batch_size=128, epochs=6, verbose=1, validation_split=0.2)"
   ]
  },
  {
   "cell_type": "code",
   "execution_count": 55,
   "metadata": {},
   "outputs": [
    {
     "name": "stdout",
     "output_type": "stream",
     "text": [
      "1240/1240 [==============================] - 5s 4ms/step\n",
      "310/310 [==============================] - 1s 4ms/step\n",
      "[[3576 1363]\n",
      " [1102 3876]]\n",
      "              precision    recall  f1-score   support\n",
      "\n",
      "           0       0.76      0.72      0.74      4939\n",
      "           1       0.74      0.78      0.76      4978\n",
      "\n",
      "    accuracy                           0.75      9917\n",
      "   macro avg       0.75      0.75      0.75      9917\n",
      "weighted avg       0.75      0.75      0.75      9917\n",
      "\n",
      "***Accuracy score***\n",
      "Train Accuracy score for snn_model is  0.8154292197151141\n",
      "Test Accuracy score for snn_model is  0.7514369264898659\n",
      "***Recall score***\n",
      "Train recall score for snn_model is  0.8348739073646136\n",
      "Test recall score for snn_model is  0.7786259541984732\n"
     ]
    }
   ],
   "source": [
    "#Making Predictions\n",
    "pred_train_snn_model = snn_model.predict(X_train)\n",
    "y_pred_snn_model=snn_model.predict(X_test)\n",
    "# Making predictions in binary format\n",
    "pred_train_binary = (pred_train_snn_model > 0.5).astype(int)\n",
    "y_pred_binary = (y_pred_snn_model > 0.5).astype(int)\n",
    "\n",
    "print(confusion_matrix(y_test,y_pred_binary))\n",
    "print(classification_report(y_test,y_pred_binary))\n",
    "print(\"***Accuracy score***\")\n",
    "print(\"Train Accuracy score for snn_model is \",accuracy_score(y_train, pred_train_binary))\n",
    "print(\"Test Accuracy score for snn_model is \",accuracy_score(y_test, y_pred_binary))\n",
    "print(\"***Recall score***\")\n",
    "print(\"Train recall score for snn_model is \",recall_score(y_train, pred_train_binary))\n",
    "print(\"Test recall score for snn_model is \",recall_score(y_test, y_pred_binary))"
   ]
  },
  {
   "cell_type": "code",
   "execution_count": 32,
   "metadata": {
    "colab": {
     "base_uri": "https://localhost:8080/",
     "height": 573
    },
    "id": "r55HElqVSc5K",
    "outputId": "a52b5052-ea2b-4eef-a92a-9843f4a6c934"
   },
   "outputs": [
    {
     "data": {
      "image/png": "[encoded data removed]",
      "text/plain": [
       "<Figure size 432x288 with 1 Axes>"
      ]
     },
     "metadata": {},
     "output_type": "display_data"
    },
    {
     "data": {
      "image/png": "[encoded data removed]",
      "text/plain": [
       "<Figure size 432x288 with 1 Axes>"
      ]
     },
     "metadata": {},
     "output_type": "display_data"
    }
   ],
   "source": [
    "# Model Performance Charts\n",
    "\n",
    "import matplotlib.pyplot as plt\n",
    "\n",
    "plt.plot(snn_model_history.history['accuracy'])\n",
    "plt.plot(snn_model_history.history['val_accuracy'])\n",
    "\n",
    "plt.title('model accuracy')\n",
    "plt.ylabel('accuracy')\n",
    "plt.xlabel('epoch')\n",
    "plt.legend(['train','test'], loc='upper left')\n",
    "plt.show()\n",
    "\n",
    "plt.plot(snn_model_history.history['loss'])\n",
    "plt.plot(snn_model_history.history['val_loss'])\n",
    "\n",
    "plt.title('model loss')\n",
    "plt.ylabel('loss')\n",
    "plt.xlabel('epoch')\n",
    "plt.legend(['train','test'], loc='upper left')\n",
    "plt.show()"
   ]
  },
  {
   "cell_type": "markdown",
   "metadata": {
    "id": "HMulFBC4SfAY"
   },
   "source": [
    "## Convolutional Neural Network"
   ]
  },
  {
   "cell_type": "code",
   "execution_count": 18,
   "metadata": {
    "id": "CzNlGNGGUhVx"
   },
   "outputs": [],
   "source": [
    "from keras.layers import Conv1D"
   ]
  },
  {
   "cell_type": "code",
   "execution_count": 19,
   "metadata": {
    "id": "kbVF6c4ASgUs"
   },
   "outputs": [],
   "source": [
    "# Neural Network architecture\n",
    "\n",
    "cnn_model = Sequential()\n",
    "\n",
    "embedding_layer = Embedding(vocab_length, 100, weights=[embedding_matrix], input_length=maxlen , trainable=False)\n",
    "cnn_model.add(embedding_layer)\n",
    "\n",
    "cnn_model.add(Conv1D(64, 5, activation='relu'))\n",
    "cnn_model.add(GlobalMaxPooling1D())\n",
    "cnn_model.add(Dense(1, activation='sigmoid'))"
   ]
  },
  {
   "cell_type": "code",
   "execution_count": 20,
   "metadata": {
    "colab": {
     "base_uri": "https://localhost:8080/"
    },
    "id": "XayF5sTqSlP_",
    "outputId": "cab2695e-891c-4af7-90ca-3353b6ae3016"
   },
   "outputs": [
    {
     "name": "stdout",
     "output_type": "stream",
     "text": [
      "Model: \"sequential\"\n",
      "_________________________________________________________________\n",
      " Layer (type)                Output Shape              Param #   \n",
      "=================================================================\n",
      " embedding (Embedding)       (None, 100, 100)          9299600   \n",
      "                                                                 \n",
      " conv1d (Conv1D)             (None, 96, 64)            32064     \n",
      "                                                                 \n",
      " global_max_pooling1d (Globa  (None, 64)               0         \n",
      " lMaxPooling1D)                                                  \n",
      "                                                                 \n",
      " dense (Dense)               (None, 1)                 65        \n",
      "                                                                 \n",
      "=================================================================\n",
      "Total params: 9,331,729\n",
      "Trainable params: 32,129\n",
      "Non-trainable params: 9,299,600\n",
      "_________________________________________________________________\n",
      "None\n"
     ]
    }
   ],
   "source": [
    "# Model compiling\n",
    "\n",
    "cnn_model.compile(optimizer='adam', loss='binary_crossentropy', metrics=['acc'])\n",
    "print(cnn_model.summary())"
   ]
  },
  {
   "cell_type": "code",
   "execution_count": 21,
   "metadata": {
    "colab": {
     "base_uri": "https://localhost:8080/"
    },
    "id": "AaF5Rc6GSnDY",
    "outputId": "3b01a193-f9f6-452c-aa65-2fadd8f90df7"
   },
   "outputs": [
    {
     "name": "stdout",
     "output_type": "stream",
     "text": [
      "Epoch 1/20\n",
      "248/248 [==============================] - 12s 41ms/step - loss: 0.4840 - acc: 0.7675 - val_loss: 0.3961 - val_acc: 0.8215\n",
      "Epoch 2/20\n",
      "248/248 [==============================] - 10s 39ms/step - loss: 0.3515 - acc: 0.8476 - val_loss: 0.3616 - val_acc: 0.8374\n",
      "Epoch 3/20\n",
      "248/248 [==============================] - 10s 39ms/step - loss: 0.3029 - acc: 0.8738 - val_loss: 0.3534 - val_acc: 0.8427\n",
      "Epoch 4/20\n",
      "248/248 [==============================] - 10s 42ms/step - loss: 0.2689 - acc: 0.8931 - val_loss: 0.3407 - val_acc: 0.8500\n",
      "Epoch 5/20\n",
      "248/248 [==============================] - 11s 43ms/step - loss: 0.2400 - acc: 0.9066 - val_loss: 0.3393 - val_acc: 0.8521\n",
      "Epoch 6/20\n",
      "248/248 [==============================] - 11s 43ms/step - loss: 0.2126 - acc: 0.9216 - val_loss: 0.3423 - val_acc: 0.8505\n",
      "Epoch 7/20\n",
      "248/248 [==============================] - 10s 41ms/step - loss: 0.1910 - acc: 0.9327 - val_loss: 0.3674 - val_acc: 0.8431\n",
      "Epoch 8/20\n",
      "248/248 [==============================] - 10s 41ms/step - loss: 0.1689 - acc: 0.9439 - val_loss: 0.3491 - val_acc: 0.8496\n",
      "Epoch 9/20\n",
      "248/248 [==============================] - 10s 40ms/step - loss: 0.1509 - acc: 0.9531 - val_loss: 0.3640 - val_acc: 0.8450\n",
      "Epoch 10/20\n",
      "248/248 [==============================] - 10s 40ms/step - loss: 0.1325 - acc: 0.9614 - val_loss: 0.3651 - val_acc: 0.8485\n",
      "Epoch 11/20\n",
      "248/248 [==============================] - 10s 38ms/step - loss: 0.1163 - acc: 0.9703 - val_loss: 0.3700 - val_acc: 0.8492\n",
      "Epoch 12/20\n",
      "248/248 [==============================] - 10s 42ms/step - loss: 0.1016 - acc: 0.9770 - val_loss: 0.3913 - val_acc: 0.8452\n",
      "Epoch 13/20\n",
      "248/248 [==============================] - 10s 40ms/step - loss: 0.0890 - acc: 0.9829 - val_loss: 0.3921 - val_acc: 0.8439\n",
      "Epoch 14/20\n",
      "248/248 [==============================] - 10s 40ms/step - loss: 0.0784 - acc: 0.9864 - val_loss: 0.3983 - val_acc: 0.8471\n",
      "Epoch 15/20\n",
      "248/248 [==============================] - 10s 42ms/step - loss: 0.0681 - acc: 0.9911 - val_loss: 0.4126 - val_acc: 0.8450\n",
      "Epoch 16/20\n",
      "248/248 [==============================] - 10s 41ms/step - loss: 0.0583 - acc: 0.9939 - val_loss: 0.4192 - val_acc: 0.8458\n",
      "Epoch 17/20\n",
      "248/248 [==============================] - 10s 40ms/step - loss: 0.0515 - acc: 0.9958 - val_loss: 0.4303 - val_acc: 0.8468\n",
      "Epoch 18/20\n",
      "248/248 [==============================] - 10s 40ms/step - loss: 0.0445 - acc: 0.9970 - val_loss: 0.4485 - val_acc: 0.8461\n",
      "Epoch 19/20\n",
      "248/248 [==============================] - 10s 40ms/step - loss: 0.0418 - acc: 0.9968 - val_loss: 0.4586 - val_acc: 0.8462\n",
      "Epoch 20/20\n",
      "248/248 [==============================] - 10s 40ms/step - loss: 0.0335 - acc: 0.9988 - val_loss: 0.4655 - val_acc: 0.8475\n"
     ]
    }
   ],
   "source": [
    "# Model training\n",
    "\n",
    "cnn_model_history = cnn_model.fit(X_train, y_train, batch_size=128, epochs=20, verbose=1, validation_split=0.2)"
   ]
  },
  {
   "cell_type": "code",
   "execution_count": 22,
   "metadata": {
    "colab": {
     "base_uri": "https://localhost:8080/"
    },
    "id": "bQhafHPmSvpG",
    "outputId": "a6f68212-361d-4d9c-e6ce-389a72a00672"
   },
   "outputs": [
    {
     "name": "stdout",
     "output_type": "stream",
     "text": [
      "1240/1240 [==============================] - 7s 5ms/step\n",
      "310/310 [==============================] - 2s 5ms/step\n",
      "[[4096  843]\n",
      " [ 759 4219]]\n",
      "              precision    recall  f1-score   support\n",
      "\n",
      "           0       0.84      0.83      0.84      4939\n",
      "           1       0.83      0.85      0.84      4978\n",
      "\n",
      "    accuracy                           0.84      9917\n",
      "   macro avg       0.84      0.84      0.84      9917\n",
      "weighted avg       0.84      0.84      0.84      9917\n",
      "\n",
      "***Accuracy score***\n",
      "Train Accuracy score for cnn_model is  0.9693684608597\n",
      "Test Accuracy score for cnn_model is  0.8384592114550772\n",
      "***Recall score***\n",
      "Train recall score for cnn_model is  0.9707625841454838\n",
      "Test recall score for cnn_model is  0.8475291281639212\n"
     ]
    }
   ],
   "source": [
    "#Making Predictions\n",
    "pred_train_cnn_model = cnn_model.predict(X_train)\n",
    "y_pred_cnn_model=cnn_model.predict(X_test)\n",
    "# Making predictions in binary format\n",
    "pred_train_binary = (pred_train_cnn_model > 0.5).astype(int)\n",
    "y_pred_binary = (y_pred_cnn_model > 0.5).astype(int)\n",
    "\n",
    "print(confusion_matrix(y_test,y_pred_binary))\n",
    "print(classification_report(y_test,y_pred_binary))\n",
    "print(\"***Accuracy score***\")\n",
    "print(\"Train Accuracy score for cnn_model is \",accuracy_score(y_train, pred_train_binary))\n",
    "print(\"Test Accuracy score for cnn_model is \",accuracy_score(y_test, y_pred_binary))\n",
    "print(\"***Recall score***\")\n",
    "print(\"Train recall score for cnn_model is \",recall_score(y_train, pred_train_binary))\n",
    "print(\"Test recall score for cnn_model is \",recall_score(y_test, y_pred_binary))"
   ]
  },
  {
   "cell_type": "code",
   "execution_count": 24,
   "metadata": {
    "colab": {
     "base_uri": "https://localhost:8080/",
     "height": 573
    },
    "id": "YLdZa9GNSyAy",
    "outputId": "738c6044-36be-497d-c91d-13f944e2247a"
   },
   "outputs": [
    {
     "data": {
      "image/png": "[encoded data removed]",
      "text/plain": [
       "<Figure size 432x288 with 1 Axes>"
      ]
     },
     "metadata": {},
     "output_type": "display_data"
    },
    {
     "data": {
      "image/png": "[encoded data removed]",
      "text/plain": [
       "<Figure size 432x288 with 1 Axes>"
      ]
     },
     "metadata": {},
     "output_type": "display_data"
    }
   ],
   "source": [
    "# Model Performance Charts\n",
    "\n",
    "import matplotlib.pyplot as plt\n",
    "\n",
    "plt.plot(cnn_model_history.history['acc'])\n",
    "plt.plot(cnn_model_history.history['val_acc'])\n",
    "\n",
    "plt.title('model accuracy')\n",
    "plt.ylabel('accuracy')\n",
    "plt.xlabel('epoch')\n",
    "plt.legend(['train','test'], loc = 'upper left')\n",
    "plt.show()\n",
    "\n",
    "plt.plot(cnn_model_history.history['loss'])\n",
    "plt.plot(cnn_model_history.history['val_loss'])\n",
    "\n",
    "plt.title('model loss')\n",
    "plt.ylabel('loss')\n",
    "plt.xlabel('epoch')\n",
    "plt.legend(['train','test'], loc = 'upper left')\n",
    "plt.show()"
   ]
  },
  {
   "cell_type": "markdown",
   "metadata": {
    "id": "2QTts_XPS1Wn"
   },
   "source": [
    "## Recurrent Neural Network (LSTM)"
   ]
  },
  {
   "cell_type": "code",
   "execution_count": 18,
   "metadata": {
    "id": "1iLtWqoMVwU5"
   },
   "outputs": [],
   "source": [
    "from keras.layers import LSTM"
   ]
  },
  {
   "cell_type": "code",
   "execution_count": 26,
   "metadata": {
    "id": "0ccqZ-8kS2el"
   },
   "outputs": [],
   "source": [
    "lstm_model = Sequential()\n",
    "embedding_layer = Embedding(vocab_length, 100, weights=[embedding_matrix], input_length=maxlen, trainable=False)\n",
    "\n",
    "lstm_model.add(embedding_layer)\n",
    "lstm_model.add(LSTM(128, dropout=0.2, recurrent_dropout=0.1, return_sequences=True))\n",
    "lstm_model.add(LSTM(64, dropout=0.2, recurrent_dropout=0.1, return_sequences=True))\n",
    "lstm_model.add(LSTM(32, dropout=0.2, recurrent_dropout=0.1))\n",
    "lstm_model.add(Dense(1, activation='sigmoid'))"
   ]
  },
  {
   "cell_type": "code",
   "execution_count": 27,
   "metadata": {
    "colab": {
     "base_uri": "https://localhost:8080/"
    },
    "id": "Zk00Ss9HS68g",
    "outputId": "efcccbd5-f0b8-499a-c9e4-6c1318445699"
   },
   "outputs": [
    {
     "name": "stdout",
     "output_type": "stream",
     "text": [
      "Model: \"sequential_2\"\n",
      "_________________________________________________________________\n",
      " Layer (type)                Output Shape              Param #   \n",
      "=================================================================\n",
      " embedding_2 (Embedding)     (None, 100, 100)          9299600   \n",
      "                                                                 \n",
      " lstm_6 (LSTM)               (None, 100, 128)          117248    \n",
      "                                                                 \n",
      " lstm_7 (LSTM)               (None, 100, 64)           49408     \n",
      "                                                                 \n",
      " lstm_8 (LSTM)               (None, 32)                12416     \n",
      "                                                                 \n",
      " dense_2 (Dense)             (None, 1)                 33        \n",
      "                                                                 \n",
      "=================================================================\n",
      "Total params: 9,478,705\n",
      "Trainable params: 179,105\n",
      "Non-trainable params: 9,299,600\n",
      "_________________________________________________________________\n",
      "None\n"
     ]
    }
   ],
   "source": [
    "# Model compiling\n",
    "\n",
    "lstm_model.compile(optimizer='adam', loss='binary_crossentropy', metrics=['acc'])\n",
    "print(lstm_model.summary())"
   ]
  },
  {
   "cell_type": "code",
   "execution_count": 28,
   "metadata": {
    "colab": {
     "base_uri": "https://localhost:8080/"
    },
    "id": "QMhhaZUaS9jF",
    "outputId": "e5053dcc-35a9-4a3e-92bb-3515795ee0c7"
   },
   "outputs": [
    {
     "name": "stdout",
     "output_type": "stream",
     "text": [
      "Epoch 1/20\n",
      "248/248 [==============================] - 395s 2s/step - loss: 0.5015 - acc: 0.7587 - val_loss: 0.4218 - val_acc: 0.8103\n",
      "Epoch 2/20\n",
      "248/248 [==============================] - 347s 1s/step - loss: 0.4125 - acc: 0.8132 - val_loss: 0.3702 - val_acc: 0.8340\n",
      "Epoch 3/20\n",
      "248/248 [==============================] - 340s 1s/step - loss: 0.3630 - acc: 0.8418 - val_loss: 0.3323 - val_acc: 0.8586\n",
      "Epoch 4/20\n",
      "248/248 [==============================] - 330s 1s/step - loss: 0.3317 - acc: 0.8576 - val_loss: 0.3649 - val_acc: 0.8354\n",
      "Epoch 5/20\n",
      "248/248 [==============================] - 320s 1s/step - loss: 0.3109 - acc: 0.8670 - val_loss: 0.3060 - val_acc: 0.8714\n",
      "Epoch 6/20\n",
      "248/248 [==============================] - 322s 1s/step - loss: 0.2924 - acc: 0.8766 - val_loss: 0.2985 - val_acc: 0.8734\n",
      "Epoch 7/20\n",
      "248/248 [==============================] - 323s 1s/step - loss: 0.2811 - acc: 0.8814 - val_loss: 0.2962 - val_acc: 0.8766\n",
      "Epoch 8/20\n",
      "248/248 [==============================] - 325s 1s/step - loss: 0.2675 - acc: 0.8867 - val_loss: 0.2992 - val_acc: 0.8796\n",
      "Epoch 9/20\n",
      "248/248 [==============================] - 324s 1s/step - loss: 0.2513 - acc: 0.8945 - val_loss: 0.2864 - val_acc: 0.8854\n",
      "Epoch 10/20\n",
      "248/248 [==============================] - 323s 1s/step - loss: 0.2409 - acc: 0.8998 - val_loss: 0.2883 - val_acc: 0.8826\n",
      "Epoch 11/20\n",
      "248/248 [==============================] - 323s 1s/step - loss: 0.2317 - acc: 0.9035 - val_loss: 0.2801 - val_acc: 0.8849\n",
      "Epoch 12/20\n",
      "248/248 [==============================] - 323s 1s/step - loss: 0.2185 - acc: 0.9106 - val_loss: 0.2942 - val_acc: 0.8784\n",
      "Epoch 13/20\n",
      "248/248 [==============================] - 324s 1s/step - loss: 0.2097 - acc: 0.9141 - val_loss: 0.2958 - val_acc: 0.8840\n",
      "Epoch 14/20\n",
      "248/248 [==============================] - 322s 1s/step - loss: 0.1973 - acc: 0.9195 - val_loss: 0.3306 - val_acc: 0.8713\n",
      "Epoch 15/20\n",
      "248/248 [==============================] - 322s 1s/step - loss: 0.1844 - acc: 0.9257 - val_loss: 0.3193 - val_acc: 0.8859\n",
      "Epoch 16/20\n",
      "248/248 [==============================] - 322s 1s/step - loss: 0.1771 - acc: 0.9302 - val_loss: 0.3287 - val_acc: 0.8784\n",
      "Epoch 17/20\n",
      "248/248 [==============================] - 324s 1s/step - loss: 0.1641 - acc: 0.9344 - val_loss: 0.3159 - val_acc: 0.8871\n",
      "Epoch 18/20\n",
      "248/248 [==============================] - 324s 1s/step - loss: 0.1576 - acc: 0.9374 - val_loss: 0.3385 - val_acc: 0.8830\n",
      "Epoch 19/20\n",
      "248/248 [==============================] - 325s 1s/step - loss: 0.1474 - acc: 0.9418 - val_loss: 0.3379 - val_acc: 0.8750\n",
      "Epoch 20/20\n",
      "248/248 [==============================] - 323s 1s/step - loss: 0.1379 - acc: 0.9453 - val_loss: 0.3605 - val_acc: 0.8808\n"
     ]
    }
   ],
   "source": [
    "# Model Training\n",
    "\n",
    "lstm_model_history = lstm_model.fit(X_train, y_train, batch_size=128, epochs=20, verbose=1, validation_split=0.2)"
   ]
  },
  {
   "cell_type": "code",
   "execution_count": 30,
   "metadata": {},
   "outputs": [
    {
     "name": "stdout",
     "output_type": "stream",
     "text": [
      "1240/1240 [==============================] - 52s 41ms/step\n",
      "310/310 [==============================] - 15s 48ms/step\n",
      "[[4310  629]\n",
      " [ 554 4424]]\n",
      "              precision    recall  f1-score   support\n",
      "\n",
      "           0       0.89      0.87      0.88      4939\n",
      "           1       0.88      0.89      0.88      4978\n",
      "\n",
      "    accuracy                           0.88      9917\n",
      "   macro avg       0.88      0.88      0.88      9917\n",
      "weighted avg       0.88      0.88      0.88      9917\n",
      "\n",
      "***Accuracy score***\n",
      "Train Accuracy score for lstm_model is  0.9527038951216438\n",
      "Test Accuracy score for lstm_model is  0.880709892104467\n",
      "***Recall score***\n",
      "Train recall score for lstm_model is  0.9521249874409726\n",
      "Test recall score for lstm_model is  0.8887103254319003\n"
     ]
    }
   ],
   "source": [
    "#Making Predictions\n",
    "pred_train_lstm_model = lstm_model.predict(X_train)\n",
    "y_pred_lstm_model=lstm_model.predict(X_test)\n",
    "# Making predictions in binary format\n",
    "pred_train_binary = (pred_train_lstm_model > 0.5).astype(int)\n",
    "y_pred_binary = (y_pred_lstm_model > 0.5).astype(int)\n",
    "\n",
    "print(confusion_matrix(y_test,y_pred_binary))\n",
    "print(classification_report(y_test,y_pred_binary))\n",
    "print(\"***Accuracy score***\")\n",
    "print(\"Train Accuracy score for lstm_model is \",accuracy_score(y_train, pred_train_binary))\n",
    "print(\"Test Accuracy score for lstm_model is \",accuracy_score(y_test, y_pred_binary))\n",
    "print(\"***Recall score***\")\n",
    "print(\"Train recall score for lstm_model is \",recall_score(y_train, pred_train_binary))\n",
    "print(\"Test recall score for lstm_model is \",recall_score(y_test, y_pred_binary))"
   ]
  },
  {
   "cell_type": "code",
   "execution_count": 29,
   "metadata": {
    "colab": {
     "base_uri": "https://localhost:8080/",
     "height": 573
    },
    "id": "LiibO1EuS9qB",
    "outputId": "a7691b0a-4eba-42c2-f934-a74d8bde2c7d"
   },
   "outputs": [
    {
     "data": {
      "image/png": "[encoded data removed]",
      "text/plain": [
       "<Figure size 432x288 with 1 Axes>"
      ]
     },
     "metadata": {},
     "output_type": "display_data"
    },
    {
     "data": {
      "image/png": "[encoded data removed]",
      "text/plain": [
       "<Figure size 432x288 with 1 Axes>"
      ]
     },
     "metadata": {},
     "output_type": "display_data"
    }
   ],
   "source": [
    "# Model Performance Charts\n",
    "\n",
    "import matplotlib.pyplot as plt\n",
    "\n",
    "plt.plot(lstm_model_history.history['acc'])\n",
    "plt.plot(lstm_model_history.history['val_acc'])\n",
    "\n",
    "plt.title('model accuracy')\n",
    "plt.ylabel('accuracy')\n",
    "plt.xlabel('epoch')\n",
    "plt.legend(['train','test'], loc='upper left')\n",
    "plt.show()\n",
    "\n",
    "plt.plot(lstm_model_history.history['loss'])\n",
    "plt.plot(lstm_model_history.history['val_loss'])\n",
    "\n",
    "plt.title('model loss')\n",
    "plt.ylabel('loss')\n",
    "plt.xlabel('epoch')\n",
    "plt.legend(['train','test'], loc='upper left')\n",
    "plt.show()"
   ]
  },
  {
   "cell_type": "code",
   "execution_count": null,
   "metadata": {},
   "outputs": [],
   "source": []
  }
 ],
 "metadata": {
  "colab": {
   "collapsed_sections": [
    "EwZa81ThPbt3",
    "q6FO9rxjxHe_"
   ],
   "provenance": [],
   "toc_visible": true
  },
  "kernelspec": {
   "display_name": "Python 3 (ipykernel)",
   "language": "python",
   "name": "python3"
  },
  "language_info": {
   "codemirror_mode": {
    "name": "ipython",
    "version": 3
   },
   "file_extension": ".py",
   "mimetype": "text/x-python",
   "name": "python",
   "nbconvert_exporter": "python",
   "pygments_lexer": "ipython3",
   "version": "3.9.7"
  }
 },
 "nbformat": 4,
 "nbformat_minor": 1
}
