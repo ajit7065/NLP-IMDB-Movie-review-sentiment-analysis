{
 "cells": [
  {
   "cell_type": "markdown",
   "metadata": {
    "id": "EwZa81ThPbt3"
   },
   "source": [
    "## Setting the environment"
   ]
  },
  {
   "cell_type": "code",
   "execution_count": 1,
   "metadata": {
    "id": "W-vpR9QCOn2i"
   },
   "outputs": [],
   "source": [
    "# Importing essential libraries and functions\n",
    "\n",
    "import pandas as pd\n",
    "import numpy as np\n",
    "import re\n",
    "import nltk\n",
    "from nltk.corpus import stopwords\n",
    "from numpy import array\n",
    "\n",
    "from keras.preprocessing.text import one_hot, Tokenizer\n",
    "from tensorflow.keras.preprocessing.sequence import pad_sequences\n",
    "from keras.models import Sequential\n",
    "from keras.layers.core import Activation, Dropout, Dense\n",
    "from keras.layers import Flatten, GlobalMaxPooling1D, Embedding, Conv1D, LSTM\n",
    "from sklearn.model_selection import train_test_split\n",
    "import seaborn as sns\n",
    "import matplotlib.pyplot as plt\n",
    "plt.style.use(\"dark_background\")\n",
    "sns.set_palette(\"dark\")\n",
    "import warnings\n",
    "warnings.filterwarnings('ignore')\n",
    "import pandas as pd\n",
    "import numpy as np\n",
    "from sklearn.feature_extraction.text import TfidfVectorizer\n",
    "from sklearn.feature_extraction.text import CountVectorizer\n",
    "from gensim.models import Word2Vec\n",
    "from sklearn.metrics import classification_report, confusion_matrix\n",
    "from sklearn.metrics import roc_auc_score,accuracy_score,recall_score\n",
    "from sklearn.metrics import roc_curve\n",
    "from sklearn.model_selection import train_test_split\n",
    "from sklearn.naive_bayes import GaussianNB\n",
    "from sklearn.model_selection import StratifiedKFold"
   ]
  },
  {
   "cell_type": "markdown",
   "metadata": {
    "id": "q6FO9rxjxHe_"
   },
   "source": [
    "## Loading dataset"
   ]
  },
  {
   "cell_type": "code",
   "execution_count": 2,
   "metadata": {
    "id": "sNL6yy_DO0n1"
   },
   "outputs": [
    {
     "data": {
      "text/html": [
       "<div>\n",
       "<style scoped>\n",
       "    .dataframe tbody tr th:only-of-type {\n",
       "        vertical-align: middle;\n",
       "    }\n",
       "\n",
       "    .dataframe tbody tr th {\n",
       "        vertical-align: top;\n",
       "    }\n",
       "\n",
       "    .dataframe thead th {\n",
       "        text-align: right;\n",
       "    }\n",
       "</style>\n",
       "<table border=\"1\" class=\"dataframe\">\n",
       "  <thead>\n",
       "    <tr style=\"text-align: right;\">\n",
       "      <th></th>\n",
       "      <th>Unnamed: 0</th>\n",
       "      <th>sentiment</th>\n",
       "      <th>text_clean</th>\n",
       "    </tr>\n",
       "  </thead>\n",
       "  <tbody>\n",
       "    <tr>\n",
       "      <th>0</th>\n",
       "      <td>0</td>\n",
       "      <td>1</td>\n",
       "      <td>one reviewers mentioned watching 1 oz episode ...</td>\n",
       "    </tr>\n",
       "    <tr>\n",
       "      <th>1</th>\n",
       "      <td>1</td>\n",
       "      <td>1</td>\n",
       "      <td>wonderful little production br br filming tech...</td>\n",
       "    </tr>\n",
       "    <tr>\n",
       "      <th>2</th>\n",
       "      <td>2</td>\n",
       "      <td>1</td>\n",
       "      <td>thought wonderful way spend time hot summer we...</td>\n",
       "    </tr>\n",
       "    <tr>\n",
       "      <th>3</th>\n",
       "      <td>3</td>\n",
       "      <td>0</td>\n",
       "      <td>basically family little boy jake thinks zombie...</td>\n",
       "    </tr>\n",
       "    <tr>\n",
       "      <th>4</th>\n",
       "      <td>4</td>\n",
       "      <td>1</td>\n",
       "      <td>petter mattei love time money visually stunnin...</td>\n",
       "    </tr>\n",
       "  </tbody>\n",
       "</table>\n",
       "</div>"
      ],
      "text/plain": [
       "   Unnamed: 0  sentiment                                         text_clean\n",
       "0           0          1  one reviewers mentioned watching 1 oz episode ...\n",
       "1           1          1  wonderful little production br br filming tech...\n",
       "2           2          1  thought wonderful way spend time hot summer we...\n",
       "3           3          0  basically family little boy jake thinks zombie...\n",
       "4           4          1  petter mattei love time money visually stunnin..."
      ]
     },
     "execution_count": 2,
     "metadata": {},
     "output_type": "execute_result"
    }
   ],
   "source": [
    "df = pd.read_csv(\"D:\\\\Portfolio\\\\03_IMDB_reviews\\\\IMDB_Preprocessed.csv\")\n",
    "df.head()"
   ]
  },
  {
   "cell_type": "code",
   "execution_count": 3,
   "metadata": {
    "colab": {
     "base_uri": "https://localhost:8080/"
    },
    "id": "elu2E2KjPBJX",
    "outputId": "22e0c258-e709-4c23-a9c6-adaadb3ac364"
   },
   "outputs": [
    {
     "data": {
      "text/plain": [
       "(49582, 3)"
      ]
     },
     "execution_count": 3,
     "metadata": {},
     "output_type": "execute_result"
    }
   ],
   "source": [
    "# Dataset exploration\n",
    "df.shape"
   ]
  },
  {
   "cell_type": "code",
   "execution_count": 4,
   "metadata": {
    "colab": {
     "base_uri": "https://localhost:8080/"
    },
    "id": "CRIDYlo4O8Va",
    "outputId": "c2e8cbe3-7487-4b82-931a-d6e8bd2bce9f"
   },
   "outputs": [
    {
     "data": {
      "text/plain": [
       "False"
      ]
     },
     "execution_count": 4,
     "metadata": {},
     "output_type": "execute_result"
    }
   ],
   "source": [
    "# Checking for missing values\n",
    "df.isnull().values.any()"
   ]
  },
  {
   "cell_type": "code",
   "execution_count": 5,
   "metadata": {
    "colab": {
     "base_uri": "https://localhost:8080/",
     "height": 296
    },
    "id": "ys4A3cAFPSYI",
    "outputId": "2fe3d6c3-06b2-4cc4-c1d2-2ad120757a0e"
   },
   "outputs": [
    {
     "data": {
      "text/plain": [
       "<AxesSubplot:xlabel='sentiment', ylabel='count'>"
      ]
     },
     "execution_count": 5,
     "metadata": {},
     "output_type": "execute_result"
    },
    {
     "data": {
      "image/png": "[encoded data removed]",
      "text/plain": [
       "<Figure size 432x288 with 1 Axes>"
      ]
     },
     "metadata": {},
     "output_type": "display_data"
    }
   ],
   "source": [
    "# Let's observe distribution of positive / negative sentiments in dataset\n",
    "import seaborn as sns\n",
    "sns.countplot(x='sentiment', data=df)"
   ]
  },
  {
   "cell_type": "code",
   "execution_count": 6,
   "metadata": {},
   "outputs": [],
   "source": [
    "from sklearn.preprocessing import LabelEncoder\n",
    "label_encoder = LabelEncoder()\n",
    "df['sentiment'] = label_encoder.fit_transform(df['sentiment'])"
   ]
  },
  {
   "cell_type": "code",
   "execution_count": 7,
   "metadata": {},
   "outputs": [
    {
     "data": {
      "text/plain": [
       "<AxesSubplot:xlabel='sentiment', ylabel='count'>"
      ]
     },
     "execution_count": 7,
     "metadata": {},
     "output_type": "execute_result"
    },
    {
     "data": {
      "image/png": "[encoded data removed]",
      "text/plain": [
       "<Figure size 432x288 with 1 Axes>"
      ]
     },
     "metadata": {},
     "output_type": "display_data"
    }
   ],
   "source": [
    "import seaborn as sns\n",
    "sns.countplot(x='sentiment', data=df)"
   ]
  },
  {
   "cell_type": "code",
   "execution_count": 8,
   "metadata": {},
   "outputs": [],
   "source": [
    "# Drop rows with missing values in the 'text_clean' column\n",
    "df.dropna(subset=['text_clean'], inplace=True)"
   ]
  },
  {
   "cell_type": "code",
   "execution_count": 9,
   "metadata": {},
   "outputs": [
    {
     "data": {
      "text/plain": [
       "(49582, 3)"
      ]
     },
     "execution_count": 9,
     "metadata": {},
     "output_type": "execute_result"
    }
   ],
   "source": [
    "df.shape"
   ]
  },
  {
   "cell_type": "code",
   "execution_count": 10,
   "metadata": {
    "id": "-EKC4DJTQKsB"
   },
   "outputs": [],
   "source": [
    "# Seperating input and output\n",
    "X = df['text_clean'].tolist()  # Convert 'text_clean' column to a list of sentences\n",
    "y = df['sentiment']"
   ]
  },
  {
   "cell_type": "code",
   "execution_count": 107,
   "metadata": {},
   "outputs": [],
   "source": [
    "# # Convert 'Star_Rating' column to integers (assuming it represents class labels)\n",
    "# y = y.astype(int)"
   ]
  },
  {
   "cell_type": "code",
   "execution_count": 11,
   "metadata": {
    "id": "UZPyxSQVQPT_"
   },
   "outputs": [],
   "source": [
    "X_train, X_test, y_train, y_test = train_test_split(X, y, test_size=0.20, random_state=42)"
   ]
  },
  {
   "cell_type": "markdown",
   "metadata": {
    "id": "FsF3k9QbQc5q"
   },
   "source": [
    "## Preparing embedding layer"
   ]
  },
  {
   "cell_type": "markdown",
   "metadata": {
    "id": "hv27X0dUcurD"
   },
   "source": [
    "Let's now write the script for our embedding layer. Embedding layer converts our textual data into numeric form. It is then **used as the first layer for the deep learning models in Keras**."
   ]
  },
  {
   "cell_type": "code",
   "execution_count": 12,
   "metadata": {
    "id": "kZ5kWzGKeAgc"
   },
   "outputs": [],
   "source": [
    "# Embedding layer expects the words to be in numeric form\n",
    "# Using Tokenizer function from keras.preprocessing.text library\n",
    "# Method fit_on_text trains the tokenizer\n",
    "# Method texts_to_sequences converts sentences to their numeric form\n",
    "from keras.preprocessing.text import Tokenizer\n",
    "\n",
    "# Convert 'text_clean' column to strings\n",
    "X_train = [str(text) for text in X_train]\n",
    "X_test = [str(text) for text in X_test]\n",
    "\n",
    "# Create the Tokenizer and fit on the training data\n",
    "word_tokenizer = Tokenizer()\n",
    "word_tokenizer.fit_on_texts(X_train)\n",
    "\n",
    "# Convert sentences to numeric sequences\n",
    "X_train = word_tokenizer.texts_to_sequences(X_train)\n",
    "X_test = word_tokenizer.texts_to_sequences(X_test)\n",
    "\n",
    "# Pad sequences to have the same length (required for input to neural networks)\n",
    "max_sequence_length = max(len(seq) for seq in X_train + X_test)\n",
    "X_train = pad_sequences(X_train, maxlen=max_sequence_length)\n",
    "X_test = pad_sequences(X_test, maxlen=max_sequence_length)"
   ]
  },
  {
   "cell_type": "code",
   "execution_count": 13,
   "metadata": {
    "colab": {
     "base_uri": "https://localhost:8080/"
    },
    "id": "vn-Rj21reKVm",
    "outputId": "8bda9c62-df83-4e8e-c9af-d5f7ab98537e"
   },
   "outputs": [
    {
     "data": {
      "text/plain": [
       "92996"
      ]
     },
     "execution_count": 13,
     "metadata": {},
     "output_type": "execute_result"
    }
   ],
   "source": [
    "# Adding 1 to store dimensions for words for which no pretrained word embeddings exist\n",
    "\n",
    "vocab_length = len(word_tokenizer.word_index) + 1\n",
    "\n",
    "vocab_length"
   ]
  },
  {
   "cell_type": "code",
   "execution_count": 14,
   "metadata": {
    "id": "9-QqBAR0hz22"
   },
   "outputs": [],
   "source": [
    "# Padding all reviews to fixed length 100\n",
    "\n",
    "maxlen = 100\n",
    "\n",
    "X_train = pad_sequences(X_train, padding='post', maxlen=maxlen)\n",
    "X_test = pad_sequences(X_test, padding='post', maxlen=maxlen)"
   ]
  },
  {
   "cell_type": "code",
   "execution_count": 15,
   "metadata": {
    "id": "VH4uFszlRGPk"
   },
   "outputs": [],
   "source": [
    "# Load GloVe word embeddings and create an Embeddings Dictionary\n",
    "\n",
    "from numpy import asarray\n",
    "from numpy import zeros\n",
    "\n",
    "embeddings_dictionary = dict()\n",
    "glove_file = open('D:\\\\Portfolio\\\\03_IMDB_reviews\\\\a2_glove.6B.100d.txt', encoding=\"utf8\")\n",
    "\n",
    "for line in glove_file:\n",
    "    records = line.split()\n",
    "    word = records[0]\n",
    "    vector_dimensions = asarray(records[1:], dtype='float32')\n",
    "    embeddings_dictionary [word] = vector_dimensions\n",
    "glove_file.close()"
   ]
  },
  {
   "cell_type": "code",
   "execution_count": 16,
   "metadata": {
    "id": "ZN6SP61FSDZB"
   },
   "outputs": [],
   "source": [
    "# Create Embedding Matrix having 100 columns\n",
    "# Containing 100-dimensional GloVe word embeddings for all words in our corpus.\n",
    "\n",
    "embedding_matrix = zeros((vocab_length, 100))\n",
    "for word, index in word_tokenizer.word_index.items():\n",
    "    embedding_vector = embeddings_dictionary.get(word)\n",
    "    if embedding_vector is not None:\n",
    "        embedding_matrix[index] = embedding_vector"
   ]
  },
  {
   "cell_type": "code",
   "execution_count": 17,
   "metadata": {
    "colab": {
     "base_uri": "https://localhost:8080/"
    },
    "id": "fjwFEeCmiAPo",
    "outputId": "2507711f-fcb8-4c89-f912-28512bdb476c"
   },
   "outputs": [
    {
     "data": {
      "text/plain": [
       "(92996, 100)"
      ]
     },
     "execution_count": 17,
     "metadata": {},
     "output_type": "execute_result"
    }
   ],
   "source": [
    "embedding_matrix.shape"
   ]
  },
  {
   "cell_type": "markdown",
   "metadata": {
    "id": "OW-AbfS3jNy_"
   },
   "source": [
    "# Model Training with:"
   ]
  },
  {
   "cell_type": "markdown",
   "metadata": {
    "id": "F_bNYrfoSIBj"
   },
   "source": [
    "## Simple Neural Network"
   ]
  },
  {
   "cell_type": "code",
   "execution_count": 28,
   "metadata": {
    "id": "qf-U8d-WSFxk"
   },
   "outputs": [],
   "source": [
    "# Neural Network architecture\n",
    "\n",
    "snn_model = Sequential()\n",
    "embedding_layer = Embedding(vocab_length, 100, weights=[embedding_matrix], input_length=maxlen , trainable=False)\n",
    "\n",
    "snn_model.add(embedding_layer)\n",
    "\n",
    "snn_model.add(Flatten())\n",
    "\n",
    "snn_model.add(Dense(units=128, kernel_initializer='normal', activation='relu'))\n",
    "Dropout(0.3),\n",
    "\n",
    "snn_model.add(Dense(units=64, kernel_initializer='normal', activation='relu'))\n",
    "Dropout(0.3),\n",
    "\n",
    "snn_model.add(Dense(units=32, kernel_initializer='normal', activation='relu'))\n",
    "Dropout(0.3),\n",
    "\n",
    "snn_model.add(Dense(1, kernel_initializer='normal'))"
   ]
  },
  {
   "cell_type": "code",
   "execution_count": 29,
   "metadata": {
    "colab": {
     "base_uri": "https://localhost:8080/"
    },
    "id": "JjUzsDS5SOrH",
    "outputId": "368baadd-5208-4dcc-c0d5-755645fb5061"
   },
   "outputs": [
    {
     "name": "stdout",
     "output_type": "stream",
     "text": [
      "Model: \"sequential_2\"\n",
      "_________________________________________________________________\n",
      " Layer (type)                Output Shape              Param #   \n",
      "=================================================================\n",
      " embedding_2 (Embedding)     (None, 100, 100)          9299600   \n",
      "                                                                 \n",
      " flatten_2 (Flatten)         (None, 10000)             0         \n",
      "                                                                 \n",
      " dense_8 (Dense)             (None, 128)               1280128   \n",
      "                                                                 \n",
      " dense_9 (Dense)             (None, 64)                8256      \n",
      "                                                                 \n",
      " dense_10 (Dense)            (None, 32)                2080      \n",
      "                                                                 \n",
      " dense_11 (Dense)            (None, 1)                 33        \n",
      "                                                                 \n",
      "=================================================================\n",
      "Total params: 10,590,097\n",
      "Trainable params: 1,290,497\n",
      "Non-trainable params: 9,299,600\n",
      "_________________________________________________________________\n",
      "None\n"
     ]
    }
   ],
   "source": [
    "# Model compiling\n",
    "\n",
    "snn_model.compile(optimizer='adam', loss='binary_crossentropy', metrics=['accuracy'])\n",
    "\n",
    "print(snn_model.summary())"
   ]
  },
  {
   "cell_type": "code",
   "execution_count": 30,
   "metadata": {
    "colab": {
     "base_uri": "https://localhost:8080/"
    },
    "id": "Fbjq_xjXSVIw",
    "outputId": "cf9c57de-d175-442e-ff1b-8844b1a4d4d1"
   },
   "outputs": [
    {
     "name": "stdout",
     "output_type": "stream",
     "text": [
      "Epoch 1/6\n",
      "248/248 [==============================] - 8s 27ms/step - loss: 0.6202 - accuracy: 0.6837 - val_loss: 0.5433 - val_accuracy: 0.7377\n",
      "Epoch 2/6\n",
      "248/248 [==============================] - 6s 26ms/step - loss: 0.6113 - accuracy: 0.6993 - val_loss: 0.5920 - val_accuracy: 0.6786\n",
      "Epoch 3/6\n",
      "248/248 [==============================] - 6s 26ms/step - loss: 0.6232 - accuracy: 0.7303 - val_loss: 0.5399 - val_accuracy: 0.7387\n",
      "Epoch 4/6\n",
      "248/248 [==============================] - 7s 29ms/step - loss: 0.5276 - accuracy: 0.7635 - val_loss: 0.5600 - val_accuracy: 0.7431\n",
      "Epoch 5/6\n",
      "248/248 [==============================] - 7s 27ms/step - loss: 0.4774 - accuracy: 0.7900 - val_loss: 0.5510 - val_accuracy: 0.7410\n",
      "Epoch 6/6\n",
      "248/248 [==============================] - 7s 27ms/step - loss: 0.4568 - accuracy: 0.8017 - val_loss: 0.6408 - val_accuracy: 0.7580\n"
     ]
    }
   ],
   "source": [
    "# Model training\n",
    "\n",
    "snn_model_history = snn_model.fit(X_train, y_train, batch_size=128, epochs=6, verbose=1, validation_split=0.2)"
   ]
  },
  {
   "cell_type": "code",
   "execution_count": 55,
   "metadata": {},
   "outputs": [
    {
     "name": "stdout",
     "output_type": "stream",
     "text": [
      "1240/1240 [==============================] - 5s 4ms/step\n",
      "310/310 [==============================] - 1s 4ms/step\n",
      "[[3576 1363]\n",
      " [1102 3876]]\n",
      "              precision    recall  f1-score   support\n",
      "\n",
      "           0       0.76      0.72      0.74      4939\n",
      "           1       0.74      0.78      0.76      4978\n",
      "\n",
      "    accuracy                           0.75      9917\n",
      "   macro avg       0.75      0.75      0.75      9917\n",
      "weighted avg       0.75      0.75      0.75      9917\n",
      "\n",
      "***Accuracy score***\n",
      "Train Accuracy score for snn_model is  0.8154292197151141\n",
      "Test Accuracy score for snn_model is  0.7514369264898659\n",
      "***Recall score***\n",
      "Train recall score for snn_model is  0.8348739073646136\n",
      "Test recall score for snn_model is  0.7786259541984732\n"
     ]
    }
   ],
   "source": [
    "#Making Predictions\n",
    "pred_train_snn_model = snn_model.predict(X_train)\n",
    "y_pred_snn_model=snn_model.predict(X_test)\n",
    "# Making predictions in binary format\n",
    "pred_train_binary = (pred_train_snn_model > 0.5).astype(int)\n",
    "y_pred_binary = (y_pred_snn_model > 0.5).astype(int)\n",
    "\n",
    "print(confusion_matrix(y_test,y_pred_binary))\n",
    "print(classification_report(y_test,y_pred_binary))\n",
    "print(\"***Accuracy score***\")\n",
    "print(\"Train Accuracy score for snn_model is \",accuracy_score(y_train, pred_train_binary))\n",
    "print(\"Test Accuracy score for snn_model is \",accuracy_score(y_test, y_pred_binary))\n",
    "print(\"***Recall score***\")\n",
    "print(\"Train recall score for snn_model is \",recall_score(y_train, pred_train_binary))\n",
    "print(\"Test recall score for snn_model is \",recall_score(y_test, y_pred_binary))"
   ]
  },
  {
   "cell_type": "code",
   "execution_count": 32,
   "metadata": {
    "colab": {
     "base_uri": "https://localhost:8080/",
     "height": 573
    },
    "id": "r55HElqVSc5K",
    "outputId": "a52b5052-ea2b-4eef-a92a-9843f4a6c934"
   },
   "outputs": [
    {
     "data": {
      "image/png": "[encoded data removed]",
      "text/plain": [
       "<Figure size 432x288 with 1 Axes>"
      ]
     },
     "metadata": {},
     "output_type": "display_data"
    },
    {
     "data": {
      "image/png": "[encoded data removed]",
      "text/plain": [
       "<Figure size 432x288 with 1 Axes>"
      ]
     },
     "metadata": {},
     "output_type": "display_data"
    }
   ],
   "source": [
    "# Model Performance Charts\n",
    "\n",
    "import matplotlib.pyplot as plt\n",
    "\n",
    "plt.plot(snn_model_history.history['accuracy'])\n",
    "plt.plot(snn_model_history.history['val_accuracy'])\n",
    "\n",
    "plt.title('model accuracy')\n",
    "plt.ylabel('accuracy')\n",
    "plt.xlabel('epoch')\n",
    "plt.legend(['train','test'], loc='upper left')\n",
    "plt.show()\n",
    "\n",
    "plt.plot(snn_model_history.history['loss'])\n",
    "plt.plot(snn_model_history.history['val_loss'])\n",
    "\n",
    "plt.title('model loss')\n",
    "plt.ylabel('loss')\n",
    "plt.xlabel('epoch')\n",
    "plt.legend(['train','test'], loc='upper left')\n",
    "plt.show()"
   ]
  },
  {
   "cell_type": "markdown",
   "metadata": {
    "id": "HMulFBC4SfAY"
   },
   "source": [
    "## Convolutional Neural Network"
   ]
  },
  {
   "cell_type": "code",
   "execution_count": 33,
   "metadata": {
    "id": "CzNlGNGGUhVx"
   },
   "outputs": [],
   "source": [
    "from keras.layers import Conv1D"
   ]
  },
  {
   "cell_type": "code",
   "execution_count": 39,
   "metadata": {
    "id": "kbVF6c4ASgUs"
   },
   "outputs": [],
   "source": [
    "# Neural Network architecture\n",
    "\n",
    "cnn_model = Sequential()\n",
    "\n",
    "embedding_layer = Embedding(vocab_length, 100, weights=[embedding_matrix], input_length=maxlen , trainable=False)\n",
    "cnn_model.add(embedding_layer)\n",
    "\n",
    "cnn_model.add(Conv1D(64, 5, activation='relu'))\n",
    "cnn_model.add(GlobalMaxPooling1D())\n",
    "cnn_model.add(Dense(1, activation='sigmoid'))"
   ]
  },
  {
   "cell_type": "code",
   "execution_count": 40,
   "metadata": {
    "colab": {
     "base_uri": "https://localhost:8080/"
    },
    "id": "XayF5sTqSlP_",
    "outputId": "cab2695e-891c-4af7-90ca-3353b6ae3016"
   },
   "outputs": [
    {
     "name": "stdout",
     "output_type": "stream",
     "text": [
      "Model: \"sequential_4\"\n",
      "_________________________________________________________________\n",
      " Layer (type)                Output Shape              Param #   \n",
      "=================================================================\n",
      " embedding_4 (Embedding)     (None, 100, 100)          9299600   \n",
      "                                                                 \n",
      " conv1d_1 (Conv1D)           (None, 96, 64)            32064     \n",
      "                                                                 \n",
      " global_max_pooling1d_1 (Glo  (None, 64)               0         \n",
      " balMaxPooling1D)                                                \n",
      "                                                                 \n",
      " dense_13 (Dense)            (None, 1)                 65        \n",
      "                                                                 \n",
      "=================================================================\n",
      "Total params: 9,331,729\n",
      "Trainable params: 32,129\n",
      "Non-trainable params: 9,299,600\n",
      "_________________________________________________________________\n",
      "None\n"
     ]
    }
   ],
   "source": [
    "# Model compiling\n",
    "\n",
    "cnn_model.compile(optimizer='adam', loss='binary_crossentropy', metrics=['acc'])\n",
    "print(cnn_model.summary())"
   ]
  },
  {
   "cell_type": "code",
   "execution_count": 41,
   "metadata": {
    "colab": {
     "base_uri": "https://localhost:8080/"
    },
    "id": "AaF5Rc6GSnDY",
    "outputId": "3b01a193-f9f6-452c-aa65-2fadd8f90df7"
   },
   "outputs": [
    {
     "name": "stdout",
     "output_type": "stream",
     "text": [
      "Epoch 1/6\n",
      "248/248 [==============================] - 11s 42ms/step - loss: 0.4952 - acc: 0.7566 - val_loss: 0.3957 - val_acc: 0.8219\n",
      "Epoch 2/6\n",
      "248/248 [==============================] - 10s 40ms/step - loss: 0.3599 - acc: 0.8445 - val_loss: 0.3749 - val_acc: 0.8284\n",
      "Epoch 3/6\n",
      "248/248 [==============================] - 10s 40ms/step - loss: 0.3091 - acc: 0.8715 - val_loss: 0.3466 - val_acc: 0.8473\n",
      "Epoch 4/6\n",
      "248/248 [==============================] - 10s 41ms/step - loss: 0.2731 - acc: 0.8915 - val_loss: 0.3408 - val_acc: 0.8505\n",
      "Epoch 5/6\n",
      "248/248 [==============================] - 11s 43ms/step - loss: 0.2418 - acc: 0.9079 - val_loss: 0.3403 - val_acc: 0.8518\n",
      "Epoch 6/6\n",
      "248/248 [==============================] - 10s 39ms/step - loss: 0.2167 - acc: 0.9192 - val_loss: 0.3409 - val_acc: 0.8516\n"
     ]
    }
   ],
   "source": [
    "# Model training\n",
    "\n",
    "cnn_model_history = cnn_model.fit(X_train, y_train, batch_size=128, epochs=6, verbose=1, validation_split=0.2)"
   ]
  },
  {
   "cell_type": "code",
   "execution_count": 54,
   "metadata": {
    "colab": {
     "base_uri": "https://localhost:8080/"
    },
    "id": "bQhafHPmSvpG",
    "outputId": "a6f68212-361d-4d9c-e6ce-389a72a00672"
   },
   "outputs": [
    {
     "name": "stdout",
     "output_type": "stream",
     "text": [
      "1240/1240 [==============================] - 6s 5ms/step\n",
      "310/310 [==============================] - 1s 5ms/step\n",
      "[[4323  616]\n",
      " [ 878 4100]]\n",
      "              precision    recall  f1-score   support\n",
      "\n",
      "           0       0.83      0.88      0.85      4939\n",
      "           1       0.87      0.82      0.85      4978\n",
      "\n",
      "    accuracy                           0.85      9917\n",
      "   macro avg       0.85      0.85      0.85      9917\n",
      "weighted avg       0.85      0.85      0.85      9917\n",
      "\n",
      "***Accuracy score***\n",
      "Train Accuracy score for cnn_model is  0.9236858691541662\n",
      "Test Accuracy score for cnn_model is  0.8493496016940607\n",
      "***Recall score***\n",
      "Train recall score for cnn_model is  0.8997789611172511\n",
      "Test recall score for cnn_model is  0.8236239453595822\n"
     ]
    }
   ],
   "source": [
    "#Making Predictions\n",
    "pred_train_cnn_model = cnn_model.predict(X_train)\n",
    "y_pred_cnn_model=cnn_model.predict(X_test)\n",
    "# Making predictions in binary format\n",
    "pred_train_binary = (pred_train_cnn_model > 0.5).astype(int)\n",
    "y_pred_binary = (y_pred_cnn_model > 0.5).astype(int)\n",
    "\n",
    "print(confusion_matrix(y_test,y_pred_binary))\n",
    "print(classification_report(y_test,y_pred_binary))\n",
    "print(\"***Accuracy score***\")\n",
    "print(\"Train Accuracy score for cnn_model is \",accuracy_score(y_train, pred_train_binary))\n",
    "print(\"Test Accuracy score for cnn_model is \",accuracy_score(y_test, y_pred_binary))\n",
    "print(\"***Recall score***\")\n",
    "print(\"Train recall score for cnn_model is \",recall_score(y_train, pred_train_binary))\n",
    "print(\"Test recall score for cnn_model is \",recall_score(y_test, y_pred_binary))"
   ]
  },
  {
   "cell_type": "code",
   "execution_count": 42,
   "metadata": {
    "colab": {
     "base_uri": "https://localhost:8080/",
     "height": 573
    },
    "id": "YLdZa9GNSyAy",
    "outputId": "738c6044-36be-497d-c91d-13f944e2247a"
   },
   "outputs": [
    {
     "data": {
      "image/png": "[encoded data removed]",
      "text/plain": [
       "<Figure size 432x288 with 1 Axes>"
      ]
     },
     "metadata": {},
     "output_type": "display_data"
    },
    {
     "data": {
      "image/png": "[encoded data removed]",
      "text/plain": [
       "<Figure size 432x288 with 1 Axes>"
      ]
     },
     "metadata": {},
     "output_type": "display_data"
    }
   ],
   "source": [
    "# Model Performance Charts\n",
    "\n",
    "import matplotlib.pyplot as plt\n",
    "\n",
    "plt.plot(cnn_model_history.history['acc'])\n",
    "plt.plot(cnn_model_history.history['val_acc'])\n",
    "\n",
    "plt.title('model accuracy')\n",
    "plt.ylabel('accuracy')\n",
    "plt.xlabel('epoch')\n",
    "plt.legend(['train','test'], loc = 'upper left')\n",
    "plt.show()\n",
    "\n",
    "plt.plot(cnn_model_history.history['loss'])\n",
    "plt.plot(cnn_model_history.history['val_loss'])\n",
    "\n",
    "plt.title('model loss')\n",
    "plt.ylabel('loss')\n",
    "plt.xlabel('epoch')\n",
    "plt.legend(['train','test'], loc = 'upper left')\n",
    "plt.show()"
   ]
  },
  {
   "cell_type": "markdown",
   "metadata": {
    "id": "2QTts_XPS1Wn"
   },
   "source": [
    "## Recurrent Neural Network (LSTM)"
   ]
  },
  {
   "cell_type": "code",
   "execution_count": 44,
   "metadata": {
    "id": "1iLtWqoMVwU5"
   },
   "outputs": [],
   "source": [
    "from keras.layers import LSTM"
   ]
  },
  {
   "cell_type": "code",
   "execution_count": 58,
   "metadata": {
    "id": "0ccqZ-8kS2el"
   },
   "outputs": [],
   "source": [
    "lstm_model = Sequential()\n",
    "embedding_layer = Embedding(vocab_length, 100, weights=[embedding_matrix], input_length=maxlen, trainable=False)\n",
    "\n",
    "lstm_model.add(embedding_layer)\n",
    "lstm_model.add(LSTM(128, dropout=0.1, recurrent_dropout=0.1, return_sequences=True))\n",
    "lstm_model.add(LSTM(64, dropout=0.1, recurrent_dropout=0.1, return_sequences=True))\n",
    "lstm_model.add(LSTM(32, dropout=0.1, recurrent_dropout=0.1))\n",
    "lstm_model.add(Dense(1, activation='sigmoid'))"
   ]
  },
  {
   "cell_type": "code",
   "execution_count": 59,
   "metadata": {
    "colab": {
     "base_uri": "https://localhost:8080/"
    },
    "id": "Zk00Ss9HS68g",
    "outputId": "efcccbd5-f0b8-499a-c9e4-6c1318445699"
   },
   "outputs": [
    {
     "name": "stdout",
     "output_type": "stream",
     "text": [
      "Model: \"sequential_7\"\n",
      "_________________________________________________________________\n",
      " Layer (type)                Output Shape              Param #   \n",
      "=================================================================\n",
      " embedding_7 (Embedding)     (None, 100, 100)          9299600   \n",
      "                                                                 \n",
      " lstm_6 (LSTM)               (None, 100, 128)          117248    \n",
      "                                                                 \n",
      " lstm_7 (LSTM)               (None, 100, 64)           49408     \n",
      "                                                                 \n",
      " lstm_8 (LSTM)               (None, 32)                12416     \n",
      "                                                                 \n",
      " dense_16 (Dense)            (None, 1)                 33        \n",
      "                                                                 \n",
      "=================================================================\n",
      "Total params: 9,478,705\n",
      "Trainable params: 179,105\n",
      "Non-trainable params: 9,299,600\n",
      "_________________________________________________________________\n",
      "None\n"
     ]
    }
   ],
   "source": [
    "# Model compiling\n",
    "\n",
    "lstm_model.compile(optimizer='adam', loss='binary_crossentropy', metrics=['acc'])\n",
    "print(lstm_model.summary())"
   ]
  },
  {
   "cell_type": "code",
   "execution_count": 60,
   "metadata": {
    "colab": {
     "base_uri": "https://localhost:8080/"
    },
    "id": "QMhhaZUaS9jF",
    "outputId": "e5053dcc-35a9-4a3e-92bb-3515795ee0c7"
   },
   "outputs": [
    {
     "name": "stdout",
     "output_type": "stream",
     "text": [
      "Epoch 1/20\n",
      "248/248 [==============================] - 477s 2s/step - loss: 0.5084 - acc: 0.7512 - val_loss: 0.4476 - val_acc: 0.7931\n",
      "Epoch 2/20\n",
      "248/248 [==============================] - 525s 2s/step - loss: 0.4081 - acc: 0.8167 - val_loss: 0.3711 - val_acc: 0.8349\n",
      "Epoch 3/20\n",
      "248/248 [==============================] - 509s 2s/step - loss: 0.3568 - acc: 0.8457 - val_loss: 0.3502 - val_acc: 0.8510\n",
      "Epoch 4/20\n",
      "248/248 [==============================] - 496s 2s/step - loss: 0.3251 - acc: 0.8600 - val_loss: 0.3307 - val_acc: 0.8582\n",
      "Epoch 5/20\n",
      "248/248 [==============================] - 480s 2s/step - loss: 0.3004 - acc: 0.8744 - val_loss: 0.3047 - val_acc: 0.8709\n",
      "Epoch 6/20\n",
      "248/248 [==============================] - 500s 2s/step - loss: 0.2813 - acc: 0.8837 - val_loss: 0.3404 - val_acc: 0.8686\n",
      "Epoch 7/20\n",
      "248/248 [==============================] - 484s 2s/step - loss: 0.2708 - acc: 0.8862 - val_loss: 0.3107 - val_acc: 0.8787\n",
      "Epoch 8/20\n",
      "248/248 [==============================] - 474s 2s/step - loss: 0.2529 - acc: 0.8959 - val_loss: 0.3068 - val_acc: 0.8676\n",
      "Epoch 9/20\n",
      "248/248 [==============================] - 479s 2s/step - loss: 0.2324 - acc: 0.9039 - val_loss: 0.2967 - val_acc: 0.8831\n",
      "Epoch 10/20\n",
      "248/248 [==============================] - 472s 2s/step - loss: 0.2157 - acc: 0.9134 - val_loss: 0.3236 - val_acc: 0.8787\n",
      "Epoch 11/20\n",
      "248/248 [==============================] - 464s 2s/step - loss: 0.2013 - acc: 0.9191 - val_loss: 0.3247 - val_acc: 0.8688\n",
      "Epoch 12/20\n",
      "248/248 [==============================] - 475s 2s/step - loss: 0.1908 - acc: 0.9234 - val_loss: 0.3041 - val_acc: 0.8842\n",
      "Epoch 13/20\n",
      "248/248 [==============================] - 462s 2s/step - loss: 0.1696 - acc: 0.9326 - val_loss: 0.3198 - val_acc: 0.8820\n",
      "Epoch 14/20\n",
      "248/248 [==============================] - 461s 2s/step - loss: 0.1588 - acc: 0.9362 - val_loss: 0.3278 - val_acc: 0.8810\n",
      "Epoch 15/20\n",
      "248/248 [==============================] - 461s 2s/step - loss: 0.1457 - acc: 0.9428 - val_loss: 0.3389 - val_acc: 0.8751\n",
      "Epoch 16/20\n",
      "248/248 [==============================] - 465s 2s/step - loss: 0.1355 - acc: 0.9473 - val_loss: 0.3553 - val_acc: 0.8796\n",
      "Epoch 17/20\n",
      "248/248 [==============================] - 434s 2s/step - loss: 0.1274 - acc: 0.9511 - val_loss: 0.3751 - val_acc: 0.8786\n",
      "Epoch 18/20\n",
      "248/248 [==============================] - 423s 2s/step - loss: 0.1125 - acc: 0.9574 - val_loss: 0.4027 - val_acc: 0.8780\n",
      "Epoch 19/20\n",
      "248/248 [==============================] - 418s 2s/step - loss: 0.0998 - acc: 0.9615 - val_loss: 0.4018 - val_acc: 0.8748\n",
      "Epoch 20/20\n",
      "248/248 [==============================] - 423s 2s/step - loss: 0.0975 - acc: 0.9632 - val_loss: 0.4007 - val_acc: 0.8670\n"
     ]
    }
   ],
   "source": [
    "# Model Training\n",
    "\n",
    "lstm_model_history = lstm_model.fit(X_train, y_train, batch_size=128, epochs=20, verbose=1, validation_split=0.2)"
   ]
  },
  {
   "cell_type": "code",
   "execution_count": 61,
   "metadata": {},
   "outputs": [
    {
     "name": "stdout",
     "output_type": "stream",
     "text": [
      "1240/1240 [==============================] - 110s 87ms/step\n",
      "310/310 [==============================] - 31s 99ms/step\n",
      "[[4272  667]\n",
      " [ 697 4281]]\n",
      "              precision    recall  f1-score   support\n",
      "\n",
      "           0       0.86      0.86      0.86      4939\n",
      "           1       0.87      0.86      0.86      4978\n",
      "\n",
      "    accuracy                           0.86      9917\n",
      "   macro avg       0.86      0.86      0.86      9917\n",
      "weighted avg       0.86      0.86      0.86      9917\n",
      "\n",
      "***Accuracy score***\n",
      "Train Accuracy score for lstm_model is  0.960721038699105\n",
      "Test Accuracy score for lstm_model is  0.8624584047595039\n",
      "***Recall score***\n",
      "Train recall score for lstm_model is  0.9573495428514016\n",
      "Test recall score for lstm_model is  0.859983929288871\n"
     ]
    }
   ],
   "source": [
    "#Making Predictions\n",
    "pred_train_lstm_model = lstm_model.predict(X_train)\n",
    "y_pred_lstm_model=lstm_model.predict(X_test)\n",
    "# Making predictions in binary format\n",
    "pred_train_binary = (pred_train_lstm_model > 0.5).astype(int)\n",
    "y_pred_binary = (y_pred_lstm_model > 0.5).astype(int)\n",
    "\n",
    "print(confusion_matrix(y_test,y_pred_binary))\n",
    "print(classification_report(y_test,y_pred_binary))\n",
    "print(\"***Accuracy score***\")\n",
    "print(\"Train Accuracy score for lstm_model is \",accuracy_score(y_train, pred_train_binary))\n",
    "print(\"Test Accuracy score for lstm_model is \",accuracy_score(y_test, y_pred_binary))\n",
    "print(\"***Recall score***\")\n",
    "print(\"Train recall score for lstm_model is \",recall_score(y_train, pred_train_binary))\n",
    "print(\"Test recall score for lstm_model is \",recall_score(y_test, y_pred_binary))"
   ]
  },
  {
   "cell_type": "code",
   "execution_count": 62,
   "metadata": {
    "colab": {
     "base_uri": "https://localhost:8080/",
     "height": 573
    },
    "id": "LiibO1EuS9qB",
    "outputId": "a7691b0a-4eba-42c2-f934-a74d8bde2c7d"
   },
   "outputs": [
    {
     "data": {
      "image/png": "[encoded data removed]",
      "text/plain": [
       "<Figure size 432x288 with 1 Axes>"
      ]
     },
     "metadata": {},
     "output_type": "display_data"
    },
    {
     "data": {
      "image/png": "[encoded data removed]",
      "text/plain": [
       "<Figure size 432x288 with 1 Axes>"
      ]
     },
     "metadata": {},
     "output_type": "display_data"
    }
   ],
   "source": [
    "# Model Performance Charts\n",
    "\n",
    "import matplotlib.pyplot as plt\n",
    "\n",
    "plt.plot(lstm_model_history.history['acc'])\n",
    "plt.plot(lstm_model_history.history['val_acc'])\n",
    "\n",
    "plt.title('model accuracy')\n",
    "plt.ylabel('accuracy')\n",
    "plt.xlabel('epoch')\n",
    "plt.legend(['train','test'], loc='upper left')\n",
    "plt.show()\n",
    "\n",
    "plt.plot(lstm_model_history.history['loss'])\n",
    "plt.plot(lstm_model_history.history['val_loss'])\n",
    "\n",
    "plt.title('model loss')\n",
    "plt.ylabel('loss')\n",
    "plt.xlabel('epoch')\n",
    "plt.legend(['train','test'], loc='upper left')\n",
    "plt.show()"
   ]
  },
  {
   "cell_type": "code",
   "execution_count": null,
   "metadata": {},
   "outputs": [],
   "source": []
  }
 ],
 "metadata": {
  "colab": {
   "collapsed_sections": [
    "EwZa81ThPbt3",
    "q6FO9rxjxHe_"
   ],
   "provenance": [],
   "toc_visible": true
  },
  "kernelspec": {
   "display_name": "Python 3 (ipykernel)",
   "language": "python",
   "name": "python3"
  },
  "language_info": {
   "codemirror_mode": {
    "name": "ipython",
    "version": 3
   },
   "file_extension": ".py",
   "mimetype": "text/x-python",
   "name": "python",
   "nbconvert_exporter": "python",
   "pygments_lexer": "ipython3",
   "version": "3.9.7"
  }
 },
 "nbformat": 4,
 "nbformat_minor": 1
}
